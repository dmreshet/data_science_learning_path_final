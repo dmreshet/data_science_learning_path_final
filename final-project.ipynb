{
 "cells": [
  {
   "cell_type": "markdown",
   "metadata": {},
   "source": [
    "<center>\n",
    "<img src=\"https://kaggle2.blob.core.windows.net/competitions/kaggle/4853/media/home_depot_tools.jpg\"/>\n",
    "## Home Depot Product Search Relevance\n",
    "</center>\n",
    "<center>Автор материала: программист-исследователь Решетников Дмитрий\n"
   ]
  },
  {
   "cell_type": "markdown",
   "metadata": {},
   "source": [
    "Shoppers rely on Home Depot’s product authority to find and buy the latest products and to get timely solutions to their home improvement needs. From installing a new ceiling fan to remodeling an entire kitchen, with the click of a mouse or tap of the screen, customers expect the correct results to their queries – quickly. Speed, accuracy and delivering a frictionless customer experience are essential.\n",
    "\n",
    "In this competition, Home Depot is asking Kagglers to help them improve their customers' shopping experience by developing a model that can accurately predict the relevance of search results.\n",
    "\n",
    "Search relevancy is an implicit measure Home Depot uses to gauge how quickly they can get customers to the right products. Currently, human raters evaluate the impact of potential changes to their search algorithms, which is a slow and subjective process. By removing or minimizing human input in search relevance evaluation, Home Depot hopes to increase the number of iterations their team can perform on the current search algorithms."
   ]
  },
  {
   "cell_type": "markdown",
   "metadata": {},
   "source": [
    "### Data description"
   ]
  },
  {
   "cell_type": "markdown",
   "metadata": {},
   "source": [
    "This data set contains a number of products and real customer search terms from Home Depot's website. The challenge is to predict a relevance score for the provided combinations of search terms and products. To create the ground truth labels, Home Depot has crowdsourced the search/product pairs to multiple human raters.\n",
    "\n",
    "The relevance is a number between 1 (not relevant) to 3 (highly relevant). For example, a search for \"AA battery\" would be considered highly relevant to a pack of size AA batteries (relevance = 3), mildly relevant to a cordless drill battery (relevance = 2), and not relevant to a snow shovel (relevance = 1).\n",
    "\n",
    "Each pair was evaluated by at least three human raters. The provided relevance scores are the average value of the ratings. There are three additional things to know about the ratings:\n",
    "\n",
    "The specific instructions given to the raters is provided in relevance_instructions.docx.\n",
    "Raters did not have access to the attributes.\n",
    "Raters had access to product images, while the competition does not include images.\n",
    "Your task is to predict the relevance for each pair listed in the test set. Note that the test set contains both seen and unseen search terms.\n",
    "\n"
   ]
  },
  {
   "cell_type": "markdown",
   "metadata": {},
   "source": [
    "### File descriptions\n",
    "\n",
    "- train.csv - the training set, contains products, searches, and relevance scores\n",
    "- test.csv - the test set, contains products and searches. You must predict the relevance for these pairs.\n",
    "- product_descriptions.csv - contains a text description of each product. You may join this table to the training or test set via the product_uid.\n",
    "- attributes.csv -  provides extended information about a subset of the products (typically representing detailed technical specifications). Not every product will have attributes.\n",
    "- sample_submission.csv - a file showing the correct submission format\n",
    "- relevance_instructions.docx - the instructions provided to human raters\n",
    "\n",
    "### Data fields\n",
    "\n",
    "- id - a unique Id field which represents a (search_term, product_uid) pair\n",
    "- product_uid - an id for the products\n",
    "- product_title - the product title\n",
    "- product_description - the text description of the product (may contain HTML content)\n",
    "- search_term - the search query\n",
    "- relevance - the average of the relevance ratings for a given id\n",
    "- name - an attribute name\n",
    "- value - the attribute's value"
   ]
  },
  {
   "cell_type": "code",
   "execution_count": 2,
   "metadata": {
    "collapsed": true
   },
   "outputs": [],
   "source": [
    "import os\n",
    "import pandas as pd\n",
    "import numpy as np\n",
    "from scipy.sparse import csr_matrix\n",
    "from sklearn.linear_model import LogisticRegression, SGDClassifier\n",
    "from nltk.stem.snowball import SnowballStemmer\n",
    "from sklearn.preprocessing import LabelEncoder\n",
    "from datetime import datetime\n",
    "import math\n",
    "import re"
   ]
  },
  {
   "cell_type": "code",
   "execution_count": 3,
   "metadata": {
    "collapsed": true
   },
   "outputs": [],
   "source": [
    "PATH_TO_DATA = '/Users/dreshetnikov/Documents/Projects/iCrossing2/Final/' "
   ]
  },
  {
   "cell_type": "markdown",
   "metadata": {},
   "source": [
    "Files spell_train.csv and spell_test.csv contains fixed search_term values  "
   ]
  },
  {
   "cell_type": "code",
   "execution_count": 4,
   "metadata": {
    "collapsed": true
   },
   "outputs": [],
   "source": [
    "train_df = pd.read_csv(os.path.join(PATH_TO_DATA,'spell_train.csv'), \n",
    "                           index_col='id', encoding = 'ISO-8859-1')\n",
    "test_df = pd.read_csv(os.path.join(PATH_TO_DATA,'spell_test.csv'), \n",
    "                           index_col='id', encoding = 'ISO-8859-1')\n",
    "attributes_df = pd.read_csv(os.path.join(PATH_TO_DATA,'attributes.csv'), encoding = 'ISO-8859-1')\n",
    "descriptions_df = pd.read_csv(os.path.join(PATH_TO_DATA,'product_descriptions.csv'), encoding = 'ISO-8859-1')"
   ]
  },
  {
   "cell_type": "code",
   "execution_count": 5,
   "metadata": {},
   "outputs": [
    {
     "name": "stdout",
     "output_type": "stream",
     "text": [
      "74067 166693\n"
     ]
    }
   ],
   "source": [
    "print (len(train_df), len(test_df))"
   ]
  },
  {
   "cell_type": "markdown",
   "metadata": {},
   "source": [
    "# 1. Let's take a look at the input data"
   ]
  },
  {
   "cell_type": "code",
   "execution_count": 172,
   "metadata": {
    "collapsed": true
   },
   "outputs": [],
   "source": [
    "%matplotlib inline\n",
    "from matplotlib import pyplot as plt"
   ]
  },
  {
   "cell_type": "markdown",
   "metadata": {},
   "source": [
    "## 1.1 Relevance distribution"
   ]
  },
  {
   "cell_type": "markdown",
   "metadata": {},
   "source": [
    "As you see from the histogram, __relevance__ column is not evenly distributed"
   ]
  },
  {
   "cell_type": "code",
   "execution_count": 174,
   "metadata": {},
   "outputs": [
    {
     "data": {
      "image/png": "[encoded data removed]",
      "text/plain": [
       "<matplotlib.figure.Figure at 0x20db7ceb8>"
      ]
     },
     "metadata": {},
     "output_type": "display_data"
    }
   ],
   "source": [
    "n, bins, patches = plt.hist(train_df['relevance'], 8, facecolor='darkviolet', alpha=0.75)\n",
    "plt.axis([1, 3, 0, 25000])\n",
    "plt.grid(True)\n",
    "plt.show()"
   ]
  },
  {
   "cell_type": "markdown",
   "metadata": {},
   "source": [
    "## 1.2. Misspelings\n",
    "I've noticed, that field 'search_term' contains a lot of misspelling (more than 3000). So let's fix that using Google API. And used fixed data instead of original one."
   ]
  },
  {
   "cell_type": "code",
   "execution_count": 48,
   "metadata": {
    "collapsed": true
   },
   "outputs": [],
   "source": [
    "import requests\n",
    "import re\n",
    "import time\n",
    "from random import randint\n",
    "\n",
    "START_SPELL_CHECK=\"<span class=\\\"spell\\\">Showing results for</span>\"\n",
    "END_SPELL_CHECK=\"<br><span class=\\\"spell_orig\\\">Search instead for\"\n",
    "HTML_Codes = ((\"'\", '&#39;'),('\"', '&quot;'),('>', '&gt;'),('<', '&lt;'),('&', '&amp;'))\n",
    "\n",
    "def spell_check(s):\n",
    "    q = '+'.join(s.split())\n",
    "    time.sleep(  randint(0,1) ) #relax and don't let google be angry\n",
    "    r = requests.get(\"https://www.google.co.uk/search?q=\"+q)\n",
    "    content = r.text\n",
    "    start=content.find(START_SPELL_CHECK) \n",
    "    if ( start > -1 ):\n",
    "        start = start + len(START_SPELL_CHECK)\n",
    "        end=content.find(END_SPELL_CHECK)\n",
    "        search= content[start:end]\n",
    "        search = re.sub(r'<[^>]+>', '', search)\n",
    "        for code in HTML_Codes:\n",
    "            search = search.replace(code[1], code[0])\n",
    "        search = search[1:]\n",
    "    else:\n",
    "        search = s\n",
    "    return search ;"
   ]
  },
  {
   "cell_type": "markdown",
   "metadata": {},
   "source": [
    "## 1.3. Brand and material columns\n",
    "There are several brand and material columns with different names, let's look at them"
   ]
  },
  {
   "cell_type": "code",
   "execution_count": 260,
   "metadata": {
    "collapsed": true
   },
   "outputs": [],
   "source": [
    "def filter_by_word(df, word):\n",
    "    brand_bool = df.str.contains(word, flags=re.IGNORECASE, na=False)\n",
    "    print ('Different %s attributes' %word, len(np.unique(df[brand_bool])))\n",
    "    print ('Rows with %s attribute' %word, len(df[brand_bool]))\n",
    "    print ('\\n'.join(np.unique(df[brand_bool])[:5]))\n",
    "    print ('...')"
   ]
  },
  {
   "cell_type": "code",
   "execution_count": 261,
   "metadata": {},
   "outputs": [
    {
     "name": "stdout",
     "output_type": "stream",
     "text": [
      "Different brand attributes 10\n",
      "Rows with brand attribute 88881\n",
      "Brand compatibility\n",
      "Brand/Model Compatibility\n",
      "Brand/model/year compatibility\n",
      "Fits Brand/Models\n",
      "Fits Faucet Brand\n",
      "...\n"
     ]
    }
   ],
   "source": [
    "filter_by_word(attributes_df.name, 'brand')"
   ]
  },
  {
   "cell_type": "code",
   "execution_count": 262,
   "metadata": {},
   "outputs": [
    {
     "name": "stdout",
     "output_type": "stream",
     "text": [
      "Different material attributes 141\n",
      "Rows with material attribute 63063\n",
      "Accent mount material\n",
      "Armor Material\n",
      "Backing material\n",
      "Bagging Material Included\n",
      "Base Material\n",
      "...\n"
     ]
    }
   ],
   "source": [
    "filter_by_word(attributes_df.name, 'material')"
   ]
  },
  {
   "cell_type": "markdown",
   "metadata": {},
   "source": [
    "We are going to count that attribute as one feature.\n",
    "Also we are going to extract color feature."
   ]
  },
  {
   "cell_type": "code",
   "execution_count": 263,
   "metadata": {},
   "outputs": [
    {
     "name": "stdout",
     "output_type": "stream",
     "text": [
      "Different color attributes 63\n",
      "Rows with color attribute 106895\n",
      "Actual Color Temperature (K)\n",
      "Base Color/Finish Family\n",
      "Basin Color\n",
      "Basin Color Family\n",
      "Beam Color\n",
      "...\n"
     ]
    }
   ],
   "source": [
    "filter_by_word(attributes_df.name, 'color')"
   ]
  },
  {
   "cell_type": "markdown",
   "metadata": {},
   "source": [
    "## 1.3. Other attributes names"
   ]
  },
  {
   "cell_type": "markdown",
   "metadata": {},
   "source": [
    "As far other product attributes weren't mantioned as a very important, we are not going to create additional columns, we will just add those attributes to products description as 'value name'. "
   ]
  },
  {
   "cell_type": "code",
   "execution_count": 264,
   "metadata": {},
   "outputs": [
    {
     "name": "stdout",
     "output_type": "stream",
     "text": [
      "Different Bullet attributes 23\n",
      "Rows with Bullet attribute 589967\n",
      "Bullet Proof\n",
      "Bullet01\n",
      "Bullet02\n",
      "Bullet03\n",
      "Bullet04\n",
      "...\n"
     ]
    }
   ],
   "source": [
    "filter_by_word(attributes_df.name, 'Bullet')"
   ]
  },
  {
   "cell_type": "code",
   "execution_count": 265,
   "metadata": {},
   "outputs": [
    {
     "name": "stdout",
     "output_type": "stream",
     "text": [
      "Different Height attributes 185\n",
      "Rows with Height attribute 97210\n",
      "Actual Product Height (in.)\n",
      "Actual Tree Height (ft.)\n",
      "Actual panel height (in.)\n",
      "Actual picket height (in.)\n",
      "Actual post height (in.)\n",
      "...\n"
     ]
    }
   ],
   "source": [
    "filter_by_word(attributes_df.name, 'Height')"
   ]
  },
  {
   "cell_type": "code",
   "execution_count": 266,
   "metadata": {},
   "outputs": [
    {
     "name": "stdout",
     "output_type": "stream",
     "text": [
      "Different Width attributes 247\n",
      "Rows with Width attribute 111194\n",
      "Actual Blind/Shade Width (In.)\n",
      "Actual Product Width (in.)\n",
      "Actual backer rail width (in.)\n",
      "Actual panel width (in.)\n",
      "Actual picket width (in.)\n",
      "...\n"
     ]
    }
   ],
   "source": [
    "filter_by_word(attributes_df.name, 'Width')"
   ]
  },
  {
   "cell_type": "code",
   "execution_count": 267,
   "metadata": {},
   "outputs": [
    {
     "name": "stdout",
     "output_type": "stream",
     "text": [
      "Different Weight attributes 50\n",
      "Rows with Weight attribute 51517\n",
      "Air handler weight (lb.)\n",
      "Assembled weight (lbs)\n",
      "Bag Weight (lb.)\n",
      "Beam Weight (Lbs.)\n",
      "Chair Weight Capacity (lb.)\n",
      "...\n"
     ]
    }
   ],
   "source": [
    "filter_by_word(attributes_df.name, 'Weight')"
   ]
  },
  {
   "cell_type": "code",
   "execution_count": 268,
   "metadata": {},
   "outputs": [
    {
     "name": "stdout",
     "output_type": "stream",
     "text": [
      "Different Length attributes 225\n",
      "Rows with Length attribute 47012\n",
      "Actual backer rail length (in.)\n",
      "Actual picket length (ft.)\n",
      "Adjustable Length\n",
      "Adjustable hanging length\n",
      "Adjustable screen length\n",
      "...\n"
     ]
    }
   ],
   "source": [
    "filter_by_word(attributes_df.name, 'Length')"
   ]
  },
  {
   "cell_type": "markdown",
   "metadata": {},
   "source": [
    "# 2. Data transformations"
   ]
  },
  {
   "cell_type": "markdown",
   "metadata": {},
   "source": [
    "### Plan\n",
    "We are going to do the following:\n",
    "0. Fixed misspelings in the search_term column (already done)\n",
    "1. Concatenate information from all files to one DataFrame\n",
    "    - extract brand/material from attributes.csv. (those parameters were mantioned as very inportant in the relevance_instructions.docx)\n",
    "    - extract color from attributes.csv\n",
    "    - concatinate all other attributes for each file to the description\n",
    "    - remove english stop words from all text columns\n",
    "    - remove all non alphabetic and non number symbols\n",
    "    - stem all text columns with english dictionary\n",
    "2. Create num columns based on text columns\n",
    "    - count amount of similar words in the pairs search_term and all other text columns \n",
    "    - create new columns for each pair\n",
    "3. Remove all text columns\n",
    "\n",
    "As a result we will have vectors of numbers that suites well for the machine learning."
   ]
  },
  {
   "cell_type": "markdown",
   "metadata": {},
   "source": [
    "## 2.1. All input files concatenation"
   ]
  },
  {
   "cell_type": "markdown",
   "metadata": {},
   "source": [
    "Let's implement several functions to prepare our data to machine learning processing "
   ]
  },
  {
   "cell_type": "code",
   "execution_count": 52,
   "metadata": {
    "collapsed": true
   },
   "outputs": [],
   "source": [
    "def group_attrs_by_product(train_df, test_df, attributes_df, descriptions_df):\n",
    "    products_attrs = dict()\n",
    "    attrs_list = set()\n",
    "    for product in train_df.values:\n",
    "        products_attrs[product[0]] = dict()\n",
    "        \n",
    "        products_attrs[product[0]]['brand'] = \"\"\n",
    "        products_attrs[product[0]]['material'] = \"\"\n",
    "        products_attrs[product[0]]['color'] = \"\"\n",
    "        \n",
    "    for product in test_df.values:\n",
    "        products_attrs[product[0]] = dict()\n",
    "        \n",
    "        products_attrs[product[0]]['brand'] = \"\"\n",
    "        products_attrs[product[0]]['material'] = \"\"\n",
    "        products_attrs[product[0]]['color'] = \"\"\n",
    "        \n",
    "        \n",
    "    for attr in attributes_df.values:\n",
    "        if math.isnan(attr[0]):\n",
    "            continue\n",
    "        \n",
    "        product_uid = attr[0]\n",
    "        attr_name = attr[1].lower()\n",
    "        attr_value = attr[2]\n",
    "        \n",
    "        if ('brand' in attr_name):\n",
    "            products_attrs[product_uid]['brand'] = '%s %s' %(products_attrs[product_uid]['brand'], attr_value)\n",
    "        elif ('material' in attr_name):\n",
    "            products_attrs[product_uid]['material'] = '%s %s' %(products_attrs[product_uid]['material'], attr_value)\n",
    "        elif ('color' in attr_name):\n",
    "            products_attrs[product_uid]['color'] = '%s %s' %(products_attrs[product_uid]['color'], attr_value)\n",
    "        else:\n",
    "            products_attrs[product_uid][attr_name] = attr_value\n",
    "            attrs_list |= set([attr_name])\n",
    "        \n",
    "    return products_attrs, attrs_list "
   ]
  },
  {
   "cell_type": "code",
   "execution_count": 53,
   "metadata": {
    "collapsed": true
   },
   "outputs": [],
   "source": [
    "def prepare_product_dict(df, product_attrs_dict, descriptions_df):\n",
    "    products_attrs = dict()\n",
    "    for product in df.values:\n",
    "        products_attrs[product[0]] = dict()\n",
    "        products_attrs[product[0]]['title'] =  product[1]\n",
    "        \n",
    "    print (len(products_attrs))\n",
    "        \n",
    "       \n",
    "        \n",
    "    for descr in descriptions_df.values:\n",
    "        if descr[0] in products_attrs:\n",
    "            products_attrs[descr[0]]['description'] = descr[1]\n",
    "        \n",
    "        \n",
    "    for uid,attr_dict in product_attrs_dict.items():\n",
    "        if uid in products_attrs:\n",
    "            attrs_dict_copy = attr_dict.copy()\n",
    "            products_attrs[uid]['brand'] = attrs_dict_copy.get('brand', '')\n",
    "            attrs_dict_copy.pop('brand', None)\n",
    "            products_attrs[uid]['material'] = attrs_dict_copy.get('material','')\n",
    "            attrs_dict_copy.pop('material', None)\n",
    "            products_attrs[uid]['color'] = attrs_dict_copy.get('color', '')\n",
    "            attrs_dict_copy.pop('color', None)\n",
    "            products_attrs[uid]['attrs'] = create_full_description(attrs_dict_copy)\n",
    "\n",
    "    return products_attrs"
   ]
  },
  {
   "cell_type": "code",
   "execution_count": 54,
   "metadata": {
    "collapsed": true
   },
   "outputs": [],
   "source": [
    "stemmer = SnowballStemmer('english')\n",
    "def stem(s):\n",
    "    return \" \".join([stemmer.stem(word) for word in s.split()])"
   ]
  },
  {
   "cell_type": "code",
   "execution_count": 55,
   "metadata": {
    "collapsed": true
   },
   "outputs": [],
   "source": [
    "def create_full_description(product_attrs):\n",
    "    description_items = list()\n",
    "    for name, value in product_attrs.items():\n",
    "        if str(value).lower() in ['nan', '', ' ', 'no'] or str(name) in ['nan', '', ' '] or len(value) == 0:\n",
    "            continue\n",
    "        item = '%s %s' %(value, name)\n",
    "        description_items.append(item)\n",
    "        \n",
    "    return \" \".join(description_items).lower()"
   ]
  },
  {
   "cell_type": "code",
   "execution_count": 56,
   "metadata": {
    "collapsed": true
   },
   "outputs": [],
   "source": [
    "from nltk.corpus import stopwords\n",
    "\n",
    "def remove_stop_words(text):\n",
    "    cachedStopWords = stopwords.words(\"english\")\n",
    "    return ' '.join([word for word in text.split() if word not in cachedStopWords])"
   ]
  },
  {
   "cell_type": "code",
   "execution_count": 57,
   "metadata": {
    "collapsed": true
   },
   "outputs": [],
   "source": [
    "def prepare_str(text):\n",
    "    text = re.sub(r\"(\\d)([a-z])\", r\"\\1 \\2\", text)\n",
    "    text = re.sub(r\"([a-z])(\\d)\", r\"\\1 \\2\", text)\n",
    "    text = re.sub(r\"([0-9]+)( *)(inches|inch|in|')\\.?\", r\"\\1in. \", text)\n",
    "    text = re.sub(r\"([0-9]+)( *)(foot|feet|ft|'')\\.?\", r\"\\1ft. \", text)\n",
    "    text = re.sub(r\"([0-9]+)( *)(pounds|pound|lbs|lb)\\.?\", r\"\\1lb. \", text)\n",
    "    text = re.sub(r\"([0-9]+)( *)(square|sq) ?\\.?(feet|foot|ft)\\.?\", r\"\\1sq.ft. \", text)\n",
    "    text = re.sub(r\"([0-9]+)( *)(cubic|cu) ?\\.?(feet|foot|ft)\\.?\", r\"\\1cu.ft. \", text)\n",
    "    text = re.sub(r\"([0-9]+)( *)(gallons|gallon|gal)\\.?\", r\"\\1gal. \", text)\n",
    "    text = re.sub(r\"([0-9]+)( *)(ounces|ounce|oz)\\.?\", r\"\\1oz. \", text)\n",
    "    text = re.sub(r\"([0-9]+)( *)(centimeters|cm)\\.?\", r\"\\1cm. \", text)\n",
    "    text = re.sub(r\"([0-9]+)( *)(milimeters|mm)\\.?\", r\"\\1mm. \", text)\n",
    "    text = text.replace(\"°\",\" degrees \")\n",
    "    text = re.sub(r\"([0-9]+)( *)(degrees|degree)\\.?\", r\"\\1deg. \", text)\n",
    "    text = text.replace(\" v \",\" volts \")\n",
    "    text = re.sub(r\"([0-9]+)( *)(volts|volt)\\.?\", r\"\\1volt. \", text)\n",
    "    text = re.sub(r\"([0-9]+)( *)(watts|watt)\\.?\", r\"\\1watt. \", text)\n",
    "    text = re.sub(r\"([0-9]+)( *)(amperes|ampere|amps|amp)\\.?\", r\"\\1amp. \", text)\n",
    "    text = remove_stop_words(text)\n",
    "    text = re.sub(r'\\W+', ' ', text.lower())\n",
    "    text = stem(text)\n",
    "    return text"
   ]
  },
  {
   "cell_type": "code",
   "execution_count": 58,
   "metadata": {
    "collapsed": true
   },
   "outputs": [],
   "source": [
    "def create_dataframe(df, dictionary, column_names):\n",
    "    rows = list()\n",
    "    for r in df.values:\n",
    "        uid = r[0]\n",
    "        attrs = dictionary[uid]\n",
    "        row = list()\n",
    "        row.append(uid)\n",
    "        row.append(prepare_str(attrs.get('title', '')))\n",
    "        row.append(prepare_str('%s %s' % (attrs.get('description', ''), attrs.get('attrs', ''))))\n",
    "        row.append(prepare_str(attrs.get('brand', '')))\n",
    "        row.append(prepare_str(attrs.get('material', '')))\n",
    "        row.append(prepare_str(attrs.get('color', '')))\n",
    "        row.append(prepare_str(r[1])) # search_term\n",
    "        row.append(len(prepare_str(r[1]).split())) # length of search_term\n",
    "        if (len(r) == 3):\n",
    "            row.append(r[2]) # relevance\n",
    "        rows.append(row)\n",
    "        \n",
    "    return pd.DataFrame.from_records(rows, columns = column_names) "
   ]
  },
  {
   "cell_type": "code",
   "execution_count": 59,
   "metadata": {},
   "outputs": [
    {
     "name": "stdout",
     "output_type": "stream",
     "text": [
      "CPU times: user 6.23 s, sys: 241 ms, total: 6.47 s\n",
      "Wall time: 6.54 s\n"
     ]
    }
   ],
   "source": [
    "%%time\n",
    "attrs, attrs_list = group_attrs_by_product(train_df, test_df, attributes_df, descriptions_df)"
   ]
  },
  {
   "cell_type": "code",
   "execution_count": 60,
   "metadata": {},
   "outputs": [
    {
     "name": "stdout",
     "output_type": "stream",
     "text": [
      "54667\n",
      "CPU times: user 1.82 s, sys: 51.9 ms, total: 1.87 s\n",
      "Wall time: 1.88 s\n"
     ]
    }
   ],
   "source": [
    "%%time\n",
    "train_products_dict = prepare_product_dict(train_df, attrs, descriptions_df)"
   ]
  },
  {
   "cell_type": "code",
   "execution_count": 61,
   "metadata": {},
   "outputs": [
    {
     "name": "stdout",
     "output_type": "stream",
     "text": [
      "97460\n",
      "CPU times: user 3.39 s, sys: 102 ms, total: 3.5 s\n",
      "Wall time: 3.52 s\n"
     ]
    }
   ],
   "source": [
    "%%time\n",
    "test_products_dict = prepare_product_dict(test_df, attrs, descriptions_df)"
   ]
  },
  {
   "cell_type": "code",
   "execution_count": 62,
   "metadata": {
    "collapsed": true
   },
   "outputs": [],
   "source": [
    "column_names = ['product_uid', 'product_title', 'product_description', 'brand', 'material', 'color', 'search_term', 'search_length', 'relevance']\n",
    "test_column_names = ['product_uid', 'product_title', 'product_description', 'brand', 'material', 'color', 'search_term', 'search_length']"
   ]
  },
  {
   "cell_type": "code",
   "execution_count": 63,
   "metadata": {},
   "outputs": [
    {
     "name": "stdout",
     "output_type": "stream",
     "text": [
      "CPU times: user 10min 53s, sys: 19 s, total: 11min 12s\n",
      "Wall time: 11min 17s\n"
     ]
    }
   ],
   "source": [
    "%%time\n",
    "full_train_df = create_dataframe(train_df[['product_uid', 'search_term', 'relevance']], train_products_dict, column_names)"
   ]
  },
  {
   "cell_type": "code",
   "execution_count": 64,
   "metadata": {},
   "outputs": [
    {
     "name": "stdout",
     "output_type": "stream",
     "text": [
      "CPU times: user 25min 36s, sys: 44.5 s, total: 26min 21s\n",
      "Wall time: 26min 48s\n"
     ]
    }
   ],
   "source": [
    "%%time\n",
    "full_test_df = create_dataframe(test_df[['product_uid', 'search_term']], test_products_dict, test_column_names)"
   ]
  },
  {
   "cell_type": "markdown",
   "metadata": {},
   "source": [
    "#### Save transformed data to csv file"
   ]
  },
  {
   "cell_type": "code",
   "execution_count": 65,
   "metadata": {
    "collapsed": true
   },
   "outputs": [],
   "source": [
    "full_train_df.to_csv(\"full_train_df.csv\", index_label = 'id')\n",
    "full_test_df.to_csv(\"full_test_df.csv\", index_label = 'id')"
   ]
  },
  {
   "cell_type": "markdown",
   "metadata": {},
   "source": [
    "#### Restore saved state of data from csv files"
   ]
  },
  {
   "cell_type": "code",
   "execution_count": 96,
   "metadata": {},
   "outputs": [],
   "source": [
    "full_train_df = pd.read_csv(os.path.join(PATH_TO_DATA,'full_train_df.csv'), index_col='id')\n",
    "full_test_df = pd.read_csv(os.path.join(PATH_TO_DATA,'full_test_df.csv'), index_col='id')"
   ]
  },
  {
   "cell_type": "code",
   "execution_count": 97,
   "metadata": {},
   "outputs": [
    {
     "data": {
      "text/html": [
       "<div>\n",
       "<style>\n",
       "    .dataframe thead tr:only-child th {\n",
       "        text-align: right;\n",
       "    }\n",
       "\n",
       "    .dataframe thead th {\n",
       "        text-align: left;\n",
       "    }\n",
       "\n",
       "    .dataframe tbody tr th {\n",
       "        vertical-align: top;\n",
       "    }\n",
       "</style>\n",
       "<table border=\"1\" class=\"dataframe\">\n",
       "  <thead>\n",
       "    <tr style=\"text-align: right;\">\n",
       "      <th></th>\n",
       "      <th>product_uid</th>\n",
       "      <th>product_title</th>\n",
       "      <th>product_description</th>\n",
       "      <th>brand</th>\n",
       "      <th>material</th>\n",
       "      <th>color</th>\n",
       "      <th>search_term</th>\n",
       "      <th>search_length</th>\n",
       "      <th>relevance</th>\n",
       "    </tr>\n",
       "    <tr>\n",
       "      <th>id</th>\n",
       "      <th></th>\n",
       "      <th></th>\n",
       "      <th></th>\n",
       "      <th></th>\n",
       "      <th></th>\n",
       "      <th></th>\n",
       "      <th></th>\n",
       "      <th></th>\n",
       "      <th></th>\n",
       "    </tr>\n",
       "  </thead>\n",
       "  <tbody>\n",
       "    <tr>\n",
       "      <th>0</th>\n",
       "      <td>100001</td>\n",
       "      <td>simpson strong tie 12 gaug angl</td>\n",
       "      <td>not angl make joint stronger also provid consi...</td>\n",
       "      <td>simpson strong tie</td>\n",
       "      <td>galvan steel</td>\n",
       "      <td>NaN</td>\n",
       "      <td>angl bracket</td>\n",
       "      <td>2</td>\n",
       "      <td>3.00</td>\n",
       "    </tr>\n",
       "    <tr>\n",
       "      <th>1</th>\n",
       "      <td>100001</td>\n",
       "      <td>simpson strong tie 12 gaug angl</td>\n",
       "      <td>not angl make joint stronger also provid consi...</td>\n",
       "      <td>simpson strong tie</td>\n",
       "      <td>galvan steel</td>\n",
       "      <td>NaN</td>\n",
       "      <td>l bracket</td>\n",
       "      <td>2</td>\n",
       "      <td>2.50</td>\n",
       "    </tr>\n",
       "    <tr>\n",
       "      <th>2</th>\n",
       "      <td>100002</td>\n",
       "      <td>behr premium textur deckov 1 gal sc 141 tugboa...</td>\n",
       "      <td>behr premium textur deckov innov solid color c...</td>\n",
       "      <td>behr premium textur deckov</td>\n",
       "      <td>NaN</td>\n",
       "      <td>brown tan tugboat</td>\n",
       "      <td>deck</td>\n",
       "      <td>1</td>\n",
       "      <td>3.00</td>\n",
       "    </tr>\n",
       "    <tr>\n",
       "      <th>3</th>\n",
       "      <td>100005</td>\n",
       "      <td>delta vero 1 handl shower onli faucet trim kit...</td>\n",
       "      <td>updat bathroom delta vero singl handl shower f...</td>\n",
       "      <td>delta</td>\n",
       "      <td>NaN</td>\n",
       "      <td>chrome chrome</td>\n",
       "      <td>rain shower head</td>\n",
       "      <td>3</td>\n",
       "      <td>2.33</td>\n",
       "    </tr>\n",
       "    <tr>\n",
       "      <th>4</th>\n",
       "      <td>100005</td>\n",
       "      <td>delta vero 1 handl shower onli faucet trim kit...</td>\n",
       "      <td>updat bathroom delta vero singl handl shower f...</td>\n",
       "      <td>delta</td>\n",
       "      <td>NaN</td>\n",
       "      <td>chrome chrome</td>\n",
       "      <td>shower faucet</td>\n",
       "      <td>2</td>\n",
       "      <td>2.67</td>\n",
       "    </tr>\n",
       "  </tbody>\n",
       "</table>\n",
       "</div>"
      ],
      "text/plain": [
       "    product_uid                                      product_title  \\\n",
       "id                                                                   \n",
       "0        100001                    simpson strong tie 12 gaug angl   \n",
       "1        100001                    simpson strong tie 12 gaug angl   \n",
       "2        100002  behr premium textur deckov 1 gal sc 141 tugboa...   \n",
       "3        100005  delta vero 1 handl shower onli faucet trim kit...   \n",
       "4        100005  delta vero 1 handl shower onli faucet trim kit...   \n",
       "\n",
       "                                  product_description  \\\n",
       "id                                                      \n",
       "0   not angl make joint stronger also provid consi...   \n",
       "1   not angl make joint stronger also provid consi...   \n",
       "2   behr premium textur deckov innov solid color c...   \n",
       "3   updat bathroom delta vero singl handl shower f...   \n",
       "4   updat bathroom delta vero singl handl shower f...   \n",
       "\n",
       "                         brand      material              color  \\\n",
       "id                                                                \n",
       "0           simpson strong tie  galvan steel                NaN   \n",
       "1           simpson strong tie  galvan steel                NaN   \n",
       "2   behr premium textur deckov           NaN  brown tan tugboat   \n",
       "3                        delta           NaN      chrome chrome   \n",
       "4                        delta           NaN      chrome chrome   \n",
       "\n",
       "         search_term  search_length  relevance  \n",
       "id                                              \n",
       "0       angl bracket              2       3.00  \n",
       "1          l bracket              2       2.50  \n",
       "2               deck              1       3.00  \n",
       "3   rain shower head              3       2.33  \n",
       "4      shower faucet              2       2.67  "
      ]
     },
     "execution_count": 97,
     "metadata": {},
     "output_type": "execute_result"
    }
   ],
   "source": [
    "full_train_df.head()"
   ]
  },
  {
   "cell_type": "markdown",
   "metadata": {
    "collapsed": true
   },
   "source": [
    "## 2.2. Transformation of text columns to num columns\n",
    "Let's count amount of similar words in search_term and other text columns"
   ]
  },
  {
   "cell_type": "code",
   "execution_count": 98,
   "metadata": {
    "collapsed": true
   },
   "outputs": [],
   "source": [
    "def count_strs_similarity(str_to_find, big_str):\n",
    "    sum = 0\n",
    "    if (str(str_to_find) == 'nan' ):\n",
    "        return 0\n",
    "    \n",
    "    big_str = str(big_str)\n",
    "    for text in str_to_find.split():\n",
    "        \n",
    "        if text in big_str:\n",
    "            sum = sum + 1\n",
    "    return sum"
   ]
  },
  {
   "cell_type": "code",
   "execution_count": 100,
   "metadata": {
    "collapsed": true
   },
   "outputs": [],
   "source": [
    "def count_strs_similarity_v2(str_to_find, big_str):\n",
    "    sum = 0\n",
    "    if (str(str_to_find) == 'nan' ):\n",
    "        return 0\n",
    "    \n",
    "    big_str = str(big_str)\n",
    "    for text in str_to_find.split():\n",
    "        \n",
    "        if text in big_str:\n",
    "            sum = sum + 1\n",
    "    return sum/len(big_str)"
   ]
  },
  {
   "cell_type": "code",
   "execution_count": 99,
   "metadata": {
    "collapsed": true
   },
   "outputs": [],
   "source": [
    "main_columns_list = ['product_title', 'product_description', 'brand', 'material', 'color']\n",
    "def new_similarity_column(source_column_name, df):\n",
    "    df['%s_similarity'%source_column_name] = [*map(count_strs_similarity, df['search_term'], df[source_column_name])]\n",
    "    df['%s_similarity_v2'%source_column_name] = [*map(count_strs_similarity_v2, df['search_term'], df[source_column_name])]\n",
    "    \n",
    "def count_query_similarities(df):\n",
    "    [*map(lambda x: new_similarity_column(x, df), main_columns_list)]\n",
    "    "
   ]
  },
  {
   "cell_type": "code",
   "execution_count": 92,
   "metadata": {},
   "outputs": [],
   "source": [
    "count_query_similarities(full_train_df)\n",
    "count_query_similarities(full_test_df)"
   ]
  },
  {
   "cell_type": "markdown",
   "metadata": {},
   "source": [
    "#### Save transformed data to csv file"
   ]
  },
  {
   "cell_type": "code",
   "execution_count": 93,
   "metadata": {
    "collapsed": true
   },
   "outputs": [],
   "source": [
    "full_train_df.to_csv(\"similar_count_train_df.csv\", index_label = 'id')\n",
    "full_test_df.to_csv(\"similar_count_test_df.csv\", index_label = 'id')"
   ]
  },
  {
   "cell_type": "markdown",
   "metadata": {},
   "source": [
    "#### Restore saved state of data from csv files"
   ]
  },
  {
   "cell_type": "code",
   "execution_count": 94,
   "metadata": {
    "collapsed": true
   },
   "outputs": [],
   "source": [
    "full_train_df = pd.read_csv(os.path.join(PATH_TO_DATA,'similar_count_train_df.csv'), index_col='id')\n",
    "full_test_df = pd.read_csv(os.path.join(PATH_TO_DATA,'similar_count_test_df.csv'), index_col='id')"
   ]
  },
  {
   "cell_type": "code",
   "execution_count": 95,
   "metadata": {},
   "outputs": [
    {
     "data": {
      "text/html": [
       "<div>\n",
       "<style>\n",
       "    .dataframe thead tr:only-child th {\n",
       "        text-align: right;\n",
       "    }\n",
       "\n",
       "    .dataframe thead th {\n",
       "        text-align: left;\n",
       "    }\n",
       "\n",
       "    .dataframe tbody tr th {\n",
       "        vertical-align: top;\n",
       "    }\n",
       "</style>\n",
       "<table border=\"1\" class=\"dataframe\">\n",
       "  <thead>\n",
       "    <tr style=\"text-align: right;\">\n",
       "      <th></th>\n",
       "      <th>product_uid</th>\n",
       "      <th>product_title</th>\n",
       "      <th>product_description</th>\n",
       "      <th>brand</th>\n",
       "      <th>material</th>\n",
       "      <th>color</th>\n",
       "      <th>search_term</th>\n",
       "      <th>search_length</th>\n",
       "      <th>relevance</th>\n",
       "      <th>product_title_similarity</th>\n",
       "      <th>product_description_similarity</th>\n",
       "      <th>brand_similarity</th>\n",
       "      <th>material_similarity</th>\n",
       "      <th>color_similarity</th>\n",
       "    </tr>\n",
       "    <tr>\n",
       "      <th>id</th>\n",
       "      <th></th>\n",
       "      <th></th>\n",
       "      <th></th>\n",
       "      <th></th>\n",
       "      <th></th>\n",
       "      <th></th>\n",
       "      <th></th>\n",
       "      <th></th>\n",
       "      <th></th>\n",
       "      <th></th>\n",
       "      <th></th>\n",
       "      <th></th>\n",
       "      <th></th>\n",
       "      <th></th>\n",
       "    </tr>\n",
       "  </thead>\n",
       "  <tbody>\n",
       "    <tr>\n",
       "      <th>0</th>\n",
       "      <td>100001</td>\n",
       "      <td>simpson strong tie 12 gaug angl</td>\n",
       "      <td>not angl make joint stronger also provid consi...</td>\n",
       "      <td>simpson strong tie</td>\n",
       "      <td>galvan steel</td>\n",
       "      <td>NaN</td>\n",
       "      <td>angl bracket</td>\n",
       "      <td>2</td>\n",
       "      <td>3.00</td>\n",
       "      <td>1</td>\n",
       "      <td>1</td>\n",
       "      <td>0</td>\n",
       "      <td>0</td>\n",
       "      <td>0</td>\n",
       "    </tr>\n",
       "    <tr>\n",
       "      <th>1</th>\n",
       "      <td>100001</td>\n",
       "      <td>simpson strong tie 12 gaug angl</td>\n",
       "      <td>not angl make joint stronger also provid consi...</td>\n",
       "      <td>simpson strong tie</td>\n",
       "      <td>galvan steel</td>\n",
       "      <td>NaN</td>\n",
       "      <td>l bracket</td>\n",
       "      <td>2</td>\n",
       "      <td>2.50</td>\n",
       "      <td>1</td>\n",
       "      <td>1</td>\n",
       "      <td>0</td>\n",
       "      <td>1</td>\n",
       "      <td>0</td>\n",
       "    </tr>\n",
       "    <tr>\n",
       "      <th>2</th>\n",
       "      <td>100002</td>\n",
       "      <td>behr premium textur deckov 1 gal sc 141 tugboa...</td>\n",
       "      <td>behr premium textur deckov innov solid color c...</td>\n",
       "      <td>behr premium textur deckov</td>\n",
       "      <td>NaN</td>\n",
       "      <td>brown tan tugboat</td>\n",
       "      <td>deck</td>\n",
       "      <td>1</td>\n",
       "      <td>3.00</td>\n",
       "      <td>1</td>\n",
       "      <td>1</td>\n",
       "      <td>1</td>\n",
       "      <td>0</td>\n",
       "      <td>0</td>\n",
       "    </tr>\n",
       "    <tr>\n",
       "      <th>3</th>\n",
       "      <td>100005</td>\n",
       "      <td>delta vero 1 handl shower onli faucet trim kit...</td>\n",
       "      <td>updat bathroom delta vero singl handl shower f...</td>\n",
       "      <td>delta</td>\n",
       "      <td>NaN</td>\n",
       "      <td>chrome chrome</td>\n",
       "      <td>rain shower head</td>\n",
       "      <td>3</td>\n",
       "      <td>2.33</td>\n",
       "      <td>1</td>\n",
       "      <td>3</td>\n",
       "      <td>0</td>\n",
       "      <td>0</td>\n",
       "      <td>0</td>\n",
       "    </tr>\n",
       "    <tr>\n",
       "      <th>4</th>\n",
       "      <td>100005</td>\n",
       "      <td>delta vero 1 handl shower onli faucet trim kit...</td>\n",
       "      <td>updat bathroom delta vero singl handl shower f...</td>\n",
       "      <td>delta</td>\n",
       "      <td>NaN</td>\n",
       "      <td>chrome chrome</td>\n",
       "      <td>shower faucet</td>\n",
       "      <td>2</td>\n",
       "      <td>2.67</td>\n",
       "      <td>2</td>\n",
       "      <td>2</td>\n",
       "      <td>0</td>\n",
       "      <td>0</td>\n",
       "      <td>0</td>\n",
       "    </tr>\n",
       "  </tbody>\n",
       "</table>\n",
       "</div>"
      ],
      "text/plain": [
       "    product_uid                                      product_title  \\\n",
       "id                                                                   \n",
       "0        100001                    simpson strong tie 12 gaug angl   \n",
       "1        100001                    simpson strong tie 12 gaug angl   \n",
       "2        100002  behr premium textur deckov 1 gal sc 141 tugboa...   \n",
       "3        100005  delta vero 1 handl shower onli faucet trim kit...   \n",
       "4        100005  delta vero 1 handl shower onli faucet trim kit...   \n",
       "\n",
       "                                  product_description  \\\n",
       "id                                                      \n",
       "0   not angl make joint stronger also provid consi...   \n",
       "1   not angl make joint stronger also provid consi...   \n",
       "2   behr premium textur deckov innov solid color c...   \n",
       "3   updat bathroom delta vero singl handl shower f...   \n",
       "4   updat bathroom delta vero singl handl shower f...   \n",
       "\n",
       "                         brand      material              color  \\\n",
       "id                                                                \n",
       "0           simpson strong tie  galvan steel                NaN   \n",
       "1           simpson strong tie  galvan steel                NaN   \n",
       "2   behr premium textur deckov           NaN  brown tan tugboat   \n",
       "3                        delta           NaN      chrome chrome   \n",
       "4                        delta           NaN      chrome chrome   \n",
       "\n",
       "         search_term  search_length  relevance  product_title_similarity  \\\n",
       "id                                                                         \n",
       "0       angl bracket              2       3.00                         1   \n",
       "1          l bracket              2       2.50                         1   \n",
       "2               deck              1       3.00                         1   \n",
       "3   rain shower head              3       2.33                         1   \n",
       "4      shower faucet              2       2.67                         2   \n",
       "\n",
       "    product_description_similarity  brand_similarity  material_similarity  \\\n",
       "id                                                                          \n",
       "0                                1                 0                    0   \n",
       "1                                1                 0                    1   \n",
       "2                                1                 1                    0   \n",
       "3                                3                 0                    0   \n",
       "4                                2                 0                    0   \n",
       "\n",
       "    color_similarity  \n",
       "id                    \n",
       "0                  0  \n",
       "1                  0  \n",
       "2                  0  \n",
       "3                  0  \n",
       "4                  0  "
      ]
     },
     "execution_count": 95,
     "metadata": {},
     "output_type": "execute_result"
    }
   ],
   "source": [
    "full_train_df.head(5)"
   ]
  },
  {
   "cell_type": "markdown",
   "metadata": {},
   "source": [
    "## 2.3. Removal of all text columns \n",
    "We are going to remove all text columns, so only columns with numbers will survive."
   ]
  },
  {
   "cell_type": "code",
   "execution_count": 77,
   "metadata": {
    "collapsed": true
   },
   "outputs": [],
   "source": [
    "def add_word_count(df):\n",
    "    df['title_len'] = [*map(lambda x: len(str(x).split()), df['product_title'])]\n",
    "    df['description_len'] = [*map(lambda x: len(str(x).split()), df['product_description'])]\n",
    "    df['brand_len'] = [*map(lambda x: len(str(x).split()), df['brand'])]\n",
    "    \n",
    "def drop_text_columns(df):\n",
    "    df.drop(main_columns_list, axis=1, inplace=True)\n",
    "    df.drop('search_term', axis=1, inplace=True)\n",
    "    df.drop('product_uid', axis=1, inplace=True)"
   ]
  },
  {
   "cell_type": "code",
   "execution_count": 78,
   "metadata": {
    "collapsed": true
   },
   "outputs": [],
   "source": [
    "add_word_count(full_train_df)\n",
    "add_word_count(full_test_df)\n",
    "\n",
    "drop_text_columns(full_train_df)\n",
    "drop_text_columns(full_test_df)"
   ]
  },
  {
   "cell_type": "code",
   "execution_count": 79,
   "metadata": {},
   "outputs": [
    {
     "data": {
      "text/html": [
       "<div>\n",
       "<style>\n",
       "    .dataframe thead tr:only-child th {\n",
       "        text-align: right;\n",
       "    }\n",
       "\n",
       "    .dataframe thead th {\n",
       "        text-align: left;\n",
       "    }\n",
       "\n",
       "    .dataframe tbody tr th {\n",
       "        vertical-align: top;\n",
       "    }\n",
       "</style>\n",
       "<table border=\"1\" class=\"dataframe\">\n",
       "  <thead>\n",
       "    <tr style=\"text-align: right;\">\n",
       "      <th></th>\n",
       "      <th>search_length</th>\n",
       "      <th>relevance</th>\n",
       "      <th>product_title_similarity</th>\n",
       "      <th>product_title_similarity_v2</th>\n",
       "      <th>product_description_similarity</th>\n",
       "      <th>product_description_similarity_v2</th>\n",
       "      <th>brand_similarity</th>\n",
       "      <th>brand_similarity_v2</th>\n",
       "      <th>material_similarity</th>\n",
       "      <th>material_similarity_v2</th>\n",
       "      <th>color_similarity</th>\n",
       "      <th>color_similarity_v2</th>\n",
       "      <th>title_len</th>\n",
       "      <th>description_len</th>\n",
       "      <th>brand_len</th>\n",
       "    </tr>\n",
       "    <tr>\n",
       "      <th>id</th>\n",
       "      <th></th>\n",
       "      <th></th>\n",
       "      <th></th>\n",
       "      <th></th>\n",
       "      <th></th>\n",
       "      <th></th>\n",
       "      <th></th>\n",
       "      <th></th>\n",
       "      <th></th>\n",
       "      <th></th>\n",
       "      <th></th>\n",
       "      <th></th>\n",
       "      <th></th>\n",
       "      <th></th>\n",
       "      <th></th>\n",
       "    </tr>\n",
       "  </thead>\n",
       "  <tbody>\n",
       "    <tr>\n",
       "      <th>0</th>\n",
       "      <td>2</td>\n",
       "      <td>3.00</td>\n",
       "      <td>1</td>\n",
       "      <td>0.032258</td>\n",
       "      <td>1</td>\n",
       "      <td>0.000965</td>\n",
       "      <td>0</td>\n",
       "      <td>0.000000</td>\n",
       "      <td>0</td>\n",
       "      <td>0.000000</td>\n",
       "      <td>0</td>\n",
       "      <td>0.0</td>\n",
       "      <td>6</td>\n",
       "      <td>183</td>\n",
       "      <td>3</td>\n",
       "    </tr>\n",
       "    <tr>\n",
       "      <th>1</th>\n",
       "      <td>2</td>\n",
       "      <td>2.50</td>\n",
       "      <td>1</td>\n",
       "      <td>0.032258</td>\n",
       "      <td>1</td>\n",
       "      <td>0.000965</td>\n",
       "      <td>0</td>\n",
       "      <td>0.000000</td>\n",
       "      <td>1</td>\n",
       "      <td>0.083333</td>\n",
       "      <td>0</td>\n",
       "      <td>0.0</td>\n",
       "      <td>6</td>\n",
       "      <td>183</td>\n",
       "      <td>3</td>\n",
       "    </tr>\n",
       "    <tr>\n",
       "      <th>2</th>\n",
       "      <td>1</td>\n",
       "      <td>3.00</td>\n",
       "      <td>1</td>\n",
       "      <td>0.015385</td>\n",
       "      <td>1</td>\n",
       "      <td>0.000560</td>\n",
       "      <td>1</td>\n",
       "      <td>0.038462</td>\n",
       "      <td>0</td>\n",
       "      <td>0.000000</td>\n",
       "      <td>0</td>\n",
       "      <td>0.0</td>\n",
       "      <td>12</td>\n",
       "      <td>309</td>\n",
       "      <td>4</td>\n",
       "    </tr>\n",
       "    <tr>\n",
       "      <th>3</th>\n",
       "      <td>3</td>\n",
       "      <td>2.33</td>\n",
       "      <td>1</td>\n",
       "      <td>0.014493</td>\n",
       "      <td>3</td>\n",
       "      <td>0.002406</td>\n",
       "      <td>0</td>\n",
       "      <td>0.000000</td>\n",
       "      <td>0</td>\n",
       "      <td>0.000000</td>\n",
       "      <td>0</td>\n",
       "      <td>0.0</td>\n",
       "      <td>13</td>\n",
       "      <td>207</td>\n",
       "      <td>1</td>\n",
       "    </tr>\n",
       "    <tr>\n",
       "      <th>4</th>\n",
       "      <td>2</td>\n",
       "      <td>2.67</td>\n",
       "      <td>2</td>\n",
       "      <td>0.028986</td>\n",
       "      <td>2</td>\n",
       "      <td>0.001604</td>\n",
       "      <td>0</td>\n",
       "      <td>0.000000</td>\n",
       "      <td>0</td>\n",
       "      <td>0.000000</td>\n",
       "      <td>0</td>\n",
       "      <td>0.0</td>\n",
       "      <td>13</td>\n",
       "      <td>207</td>\n",
       "      <td>1</td>\n",
       "    </tr>\n",
       "  </tbody>\n",
       "</table>\n",
       "</div>"
      ],
      "text/plain": [
       "    search_length  relevance  product_title_similarity  \\\n",
       "id                                                       \n",
       "0               2       3.00                         1   \n",
       "1               2       2.50                         1   \n",
       "2               1       3.00                         1   \n",
       "3               3       2.33                         1   \n",
       "4               2       2.67                         2   \n",
       "\n",
       "    product_title_similarity_v2  product_description_similarity  \\\n",
       "id                                                                \n",
       "0                      0.032258                               1   \n",
       "1                      0.032258                               1   \n",
       "2                      0.015385                               1   \n",
       "3                      0.014493                               3   \n",
       "4                      0.028986                               2   \n",
       "\n",
       "    product_description_similarity_v2  brand_similarity  brand_similarity_v2  \\\n",
       "id                                                                             \n",
       "0                            0.000965                 0             0.000000   \n",
       "1                            0.000965                 0             0.000000   \n",
       "2                            0.000560                 1             0.038462   \n",
       "3                            0.002406                 0             0.000000   \n",
       "4                            0.001604                 0             0.000000   \n",
       "\n",
       "    material_similarity  material_similarity_v2  color_similarity  \\\n",
       "id                                                                  \n",
       "0                     0                0.000000                 0   \n",
       "1                     1                0.083333                 0   \n",
       "2                     0                0.000000                 0   \n",
       "3                     0                0.000000                 0   \n",
       "4                     0                0.000000                 0   \n",
       "\n",
       "    color_similarity_v2  title_len  description_len  brand_len  \n",
       "id                                                              \n",
       "0                   0.0          6              183          3  \n",
       "1                   0.0          6              183          3  \n",
       "2                   0.0         12              309          4  \n",
       "3                   0.0         13              207          1  \n",
       "4                   0.0         13              207          1  "
      ]
     },
     "execution_count": 79,
     "metadata": {},
     "output_type": "execute_result"
    }
   ],
   "source": [
    "full_train_df.head(5)"
   ]
  },
  {
   "cell_type": "markdown",
   "metadata": {},
   "source": [
    "#### Save transformed data to csv file"
   ]
  },
  {
   "cell_type": "code",
   "execution_count": 80,
   "metadata": {
    "collapsed": true
   },
   "outputs": [],
   "source": [
    "full_train_df.to_csv(\"only_similarity_train_df.csv\", index_label = 'id')\n",
    "full_test_df.to_csv(\"only_similarity_test_df.csv\", index_label = 'id')"
   ]
  },
  {
   "cell_type": "markdown",
   "metadata": {},
   "source": [
    "#### Restore saved state of data from csv files"
   ]
  },
  {
   "cell_type": "code",
   "execution_count": 81,
   "metadata": {
    "collapsed": true
   },
   "outputs": [],
   "source": [
    "full_train_df = pd.read_csv(os.path.join(PATH_TO_DATA,'only_similarity_train_df.csv'), index_col='id')\n",
    "full_test_df = pd.read_csv(os.path.join(PATH_TO_DATA,'only_similarity_test_df.csv'), index_col='id')"
   ]
  },
  {
   "cell_type": "markdown",
   "metadata": {},
   "source": [
    "## 2.4 Let's look at new train and  test features statistics"
   ]
  },
  {
   "cell_type": "code",
   "execution_count": 82,
   "metadata": {},
   "outputs": [
    {
     "data": {
      "text/html": [
       "<div>\n",
       "<style>\n",
       "    .dataframe thead tr:only-child th {\n",
       "        text-align: right;\n",
       "    }\n",
       "\n",
       "    .dataframe thead th {\n",
       "        text-align: left;\n",
       "    }\n",
       "\n",
       "    .dataframe tbody tr th {\n",
       "        vertical-align: top;\n",
       "    }\n",
       "</style>\n",
       "<table border=\"1\" class=\"dataframe\">\n",
       "  <thead>\n",
       "    <tr style=\"text-align: right;\">\n",
       "      <th></th>\n",
       "      <th>search_length</th>\n",
       "      <th>relevance</th>\n",
       "      <th>product_title_similarity</th>\n",
       "      <th>product_description_similarity</th>\n",
       "      <th>brand_similarity</th>\n",
       "      <th>material_similarity</th>\n",
       "      <th>color_similarity</th>\n",
       "      <th>title_len</th>\n",
       "      <th>description_len</th>\n",
       "      <th>brand_len</th>\n",
       "    </tr>\n",
       "  </thead>\n",
       "  <tbody>\n",
       "    <tr>\n",
       "      <th>count</th>\n",
       "      <td>74067.000000</td>\n",
       "      <td>74067.000000</td>\n",
       "      <td>74067.000000</td>\n",
       "      <td>74067.000000</td>\n",
       "      <td>74067.000000</td>\n",
       "      <td>74067.000000</td>\n",
       "      <td>74067.000000</td>\n",
       "      <td>74067.000000</td>\n",
       "      <td>74067.000000</td>\n",
       "      <td>74067.000000</td>\n",
       "    </tr>\n",
       "    <tr>\n",
       "      <th>mean</th>\n",
       "      <td>3.172722</td>\n",
       "      <td>2.381634</td>\n",
       "      <td>2.135620</td>\n",
       "      <td>2.262695</td>\n",
       "      <td>0.211106</td>\n",
       "      <td>0.059055</td>\n",
       "      <td>0.093105</td>\n",
       "      <td>11.277600</td>\n",
       "      <td>203.430462</td>\n",
       "      <td>1.511321</td>\n",
       "    </tr>\n",
       "    <tr>\n",
       "      <th>std</th>\n",
       "      <td>1.322487</td>\n",
       "      <td>0.533984</td>\n",
       "      <td>1.230287</td>\n",
       "      <td>1.265563</td>\n",
       "      <td>0.504043</td>\n",
       "      <td>0.255834</td>\n",
       "      <td>0.346722</td>\n",
       "      <td>3.932441</td>\n",
       "      <td>130.911549</td>\n",
       "      <td>1.084582</td>\n",
       "    </tr>\n",
       "    <tr>\n",
       "      <th>min</th>\n",
       "      <td>0.000000</td>\n",
       "      <td>1.000000</td>\n",
       "      <td>0.000000</td>\n",
       "      <td>0.000000</td>\n",
       "      <td>0.000000</td>\n",
       "      <td>0.000000</td>\n",
       "      <td>0.000000</td>\n",
       "      <td>1.000000</td>\n",
       "      <td>18.000000</td>\n",
       "      <td>1.000000</td>\n",
       "    </tr>\n",
       "    <tr>\n",
       "      <th>25%</th>\n",
       "      <td>2.000000</td>\n",
       "      <td>2.000000</td>\n",
       "      <td>1.000000</td>\n",
       "      <td>1.000000</td>\n",
       "      <td>0.000000</td>\n",
       "      <td>0.000000</td>\n",
       "      <td>0.000000</td>\n",
       "      <td>8.000000</td>\n",
       "      <td>117.000000</td>\n",
       "      <td>1.000000</td>\n",
       "    </tr>\n",
       "    <tr>\n",
       "      <th>50%</th>\n",
       "      <td>3.000000</td>\n",
       "      <td>2.330000</td>\n",
       "      <td>2.000000</td>\n",
       "      <td>2.000000</td>\n",
       "      <td>0.000000</td>\n",
       "      <td>0.000000</td>\n",
       "      <td>0.000000</td>\n",
       "      <td>11.000000</td>\n",
       "      <td>173.000000</td>\n",
       "      <td>1.000000</td>\n",
       "    </tr>\n",
       "    <tr>\n",
       "      <th>75%</th>\n",
       "      <td>4.000000</td>\n",
       "      <td>3.000000</td>\n",
       "      <td>3.000000</td>\n",
       "      <td>3.000000</td>\n",
       "      <td>0.000000</td>\n",
       "      <td>0.000000</td>\n",
       "      <td>0.000000</td>\n",
       "      <td>14.000000</td>\n",
       "      <td>256.000000</td>\n",
       "      <td>2.000000</td>\n",
       "    </tr>\n",
       "    <tr>\n",
       "      <th>max</th>\n",
       "      <td>14.000000</td>\n",
       "      <td>3.000000</td>\n",
       "      <td>13.000000</td>\n",
       "      <td>13.000000</td>\n",
       "      <td>5.000000</td>\n",
       "      <td>3.000000</td>\n",
       "      <td>4.000000</td>\n",
       "      <td>32.000000</td>\n",
       "      <td>1830.000000</td>\n",
       "      <td>51.000000</td>\n",
       "    </tr>\n",
       "  </tbody>\n",
       "</table>\n",
       "</div>"
      ],
      "text/plain": [
       "       search_length     relevance  product_title_similarity  \\\n",
       "count   74067.000000  74067.000000              74067.000000   \n",
       "mean        3.172722      2.381634                  2.135620   \n",
       "std         1.322487      0.533984                  1.230287   \n",
       "min         0.000000      1.000000                  0.000000   \n",
       "25%         2.000000      2.000000                  1.000000   \n",
       "50%         3.000000      2.330000                  2.000000   \n",
       "75%         4.000000      3.000000                  3.000000   \n",
       "max        14.000000      3.000000                 13.000000   \n",
       "\n",
       "       product_description_similarity  brand_similarity  material_similarity  \\\n",
       "count                    74067.000000      74067.000000         74067.000000   \n",
       "mean                         2.262695          0.211106             0.059055   \n",
       "std                          1.265563          0.504043             0.255834   \n",
       "min                          0.000000          0.000000             0.000000   \n",
       "25%                          1.000000          0.000000             0.000000   \n",
       "50%                          2.000000          0.000000             0.000000   \n",
       "75%                          3.000000          0.000000             0.000000   \n",
       "max                         13.000000          5.000000             3.000000   \n",
       "\n",
       "       color_similarity     title_len  description_len     brand_len  \n",
       "count      74067.000000  74067.000000     74067.000000  74067.000000  \n",
       "mean           0.093105     11.277600       203.430462      1.511321  \n",
       "std            0.346722      3.932441       130.911549      1.084582  \n",
       "min            0.000000      1.000000        18.000000      1.000000  \n",
       "25%            0.000000      8.000000       117.000000      1.000000  \n",
       "50%            0.000000     11.000000       173.000000      1.000000  \n",
       "75%            0.000000     14.000000       256.000000      2.000000  \n",
       "max            4.000000     32.000000      1830.000000     51.000000  "
      ]
     },
     "execution_count": 82,
     "metadata": {},
     "output_type": "execute_result"
    }
   ],
   "source": [
    "full_train_df.describe()"
   ]
  },
  {
   "cell_type": "code",
   "execution_count": 83,
   "metadata": {},
   "outputs": [
    {
     "data": {
      "text/html": [
       "<div>\n",
       "<style>\n",
       "    .dataframe thead tr:only-child th {\n",
       "        text-align: right;\n",
       "    }\n",
       "\n",
       "    .dataframe thead th {\n",
       "        text-align: left;\n",
       "    }\n",
       "\n",
       "    .dataframe tbody tr th {\n",
       "        vertical-align: top;\n",
       "    }\n",
       "</style>\n",
       "<table border=\"1\" class=\"dataframe\">\n",
       "  <thead>\n",
       "    <tr style=\"text-align: right;\">\n",
       "      <th></th>\n",
       "      <th>search_length</th>\n",
       "      <th>product_title_similarity</th>\n",
       "      <th>product_description_similarity</th>\n",
       "      <th>brand_similarity</th>\n",
       "      <th>material_similarity</th>\n",
       "      <th>color_similarity</th>\n",
       "      <th>title_len</th>\n",
       "      <th>description_len</th>\n",
       "      <th>brand_len</th>\n",
       "    </tr>\n",
       "  </thead>\n",
       "  <tbody>\n",
       "    <tr>\n",
       "      <th>count</th>\n",
       "      <td>166693.000000</td>\n",
       "      <td>166693.000000</td>\n",
       "      <td>166693.000000</td>\n",
       "      <td>166693.000000</td>\n",
       "      <td>166693.000000</td>\n",
       "      <td>166693.000000</td>\n",
       "      <td>166693.000000</td>\n",
       "      <td>166693.000000</td>\n",
       "      <td>166693.000000</td>\n",
       "    </tr>\n",
       "    <tr>\n",
       "      <th>mean</th>\n",
       "      <td>2.998578</td>\n",
       "      <td>2.062336</td>\n",
       "      <td>2.207663</td>\n",
       "      <td>0.217994</td>\n",
       "      <td>0.061370</td>\n",
       "      <td>0.091474</td>\n",
       "      <td>11.189024</td>\n",
       "      <td>211.509637</td>\n",
       "      <td>1.548907</td>\n",
       "    </tr>\n",
       "    <tr>\n",
       "      <th>std</th>\n",
       "      <td>1.323754</td>\n",
       "      <td>1.223047</td>\n",
       "      <td>1.253779</td>\n",
       "      <td>0.506435</td>\n",
       "      <td>0.256186</td>\n",
       "      <td>0.344623</td>\n",
       "      <td>3.942649</td>\n",
       "      <td>129.872492</td>\n",
       "      <td>1.064206</td>\n",
       "    </tr>\n",
       "    <tr>\n",
       "      <th>min</th>\n",
       "      <td>0.000000</td>\n",
       "      <td>0.000000</td>\n",
       "      <td>0.000000</td>\n",
       "      <td>0.000000</td>\n",
       "      <td>0.000000</td>\n",
       "      <td>0.000000</td>\n",
       "      <td>1.000000</td>\n",
       "      <td>9.000000</td>\n",
       "      <td>1.000000</td>\n",
       "    </tr>\n",
       "    <tr>\n",
       "      <th>25%</th>\n",
       "      <td>2.000000</td>\n",
       "      <td>1.000000</td>\n",
       "      <td>1.000000</td>\n",
       "      <td>0.000000</td>\n",
       "      <td>0.000000</td>\n",
       "      <td>0.000000</td>\n",
       "      <td>8.000000</td>\n",
       "      <td>126.000000</td>\n",
       "      <td>1.000000</td>\n",
       "    </tr>\n",
       "    <tr>\n",
       "      <th>50%</th>\n",
       "      <td>3.000000</td>\n",
       "      <td>2.000000</td>\n",
       "      <td>2.000000</td>\n",
       "      <td>0.000000</td>\n",
       "      <td>0.000000</td>\n",
       "      <td>0.000000</td>\n",
       "      <td>11.000000</td>\n",
       "      <td>179.000000</td>\n",
       "      <td>1.000000</td>\n",
       "    </tr>\n",
       "    <tr>\n",
       "      <th>75%</th>\n",
       "      <td>4.000000</td>\n",
       "      <td>3.000000</td>\n",
       "      <td>3.000000</td>\n",
       "      <td>0.000000</td>\n",
       "      <td>0.000000</td>\n",
       "      <td>0.000000</td>\n",
       "      <td>14.000000</td>\n",
       "      <td>264.000000</td>\n",
       "      <td>2.000000</td>\n",
       "    </tr>\n",
       "    <tr>\n",
       "      <th>max</th>\n",
       "      <td>14.000000</td>\n",
       "      <td>14.000000</td>\n",
       "      <td>14.000000</td>\n",
       "      <td>5.000000</td>\n",
       "      <td>4.000000</td>\n",
       "      <td>6.000000</td>\n",
       "      <td>31.000000</td>\n",
       "      <td>1830.000000</td>\n",
       "      <td>48.000000</td>\n",
       "    </tr>\n",
       "  </tbody>\n",
       "</table>\n",
       "</div>"
      ],
      "text/plain": [
       "       search_length  product_title_similarity  \\\n",
       "count  166693.000000             166693.000000   \n",
       "mean        2.998578                  2.062336   \n",
       "std         1.323754                  1.223047   \n",
       "min         0.000000                  0.000000   \n",
       "25%         2.000000                  1.000000   \n",
       "50%         3.000000                  2.000000   \n",
       "75%         4.000000                  3.000000   \n",
       "max        14.000000                 14.000000   \n",
       "\n",
       "       product_description_similarity  brand_similarity  material_similarity  \\\n",
       "count                   166693.000000     166693.000000        166693.000000   \n",
       "mean                         2.207663          0.217994             0.061370   \n",
       "std                          1.253779          0.506435             0.256186   \n",
       "min                          0.000000          0.000000             0.000000   \n",
       "25%                          1.000000          0.000000             0.000000   \n",
       "50%                          2.000000          0.000000             0.000000   \n",
       "75%                          3.000000          0.000000             0.000000   \n",
       "max                         14.000000          5.000000             4.000000   \n",
       "\n",
       "       color_similarity      title_len  description_len      brand_len  \n",
       "count     166693.000000  166693.000000    166693.000000  166693.000000  \n",
       "mean           0.091474      11.189024       211.509637       1.548907  \n",
       "std            0.344623       3.942649       129.872492       1.064206  \n",
       "min            0.000000       1.000000         9.000000       1.000000  \n",
       "25%            0.000000       8.000000       126.000000       1.000000  \n",
       "50%            0.000000      11.000000       179.000000       1.000000  \n",
       "75%            0.000000      14.000000       264.000000       2.000000  \n",
       "max            6.000000      31.000000      1830.000000      48.000000  "
      ]
     },
     "execution_count": 83,
     "metadata": {},
     "output_type": "execute_result"
    }
   ],
   "source": [
    "full_test_df.describe()"
   ]
  },
  {
   "cell_type": "markdown",
   "metadata": {},
   "source": [
    "## 2.5 Visualization"
   ]
  },
  {
   "cell_type": "code",
   "execution_count": 84,
   "metadata": {
    "collapsed": true
   },
   "outputs": [],
   "source": [
    "from matplotlib import pyplot as plt\n",
    "from operator import itemgetter\n",
    "from collections import defaultdict"
   ]
  },
  {
   "cell_type": "markdown",
   "metadata": {},
   "source": [
    "#### Features histograms"
   ]
  },
  {
   "cell_type": "code",
   "execution_count": 85,
   "metadata": {},
   "outputs": [
    {
     "data": {
      "image/png": "[encoded data removed]",
      "text/plain": [
       "<matplotlib.figure.Figure at 0x12a16fcf8>"
      ]
     },
     "metadata": {},
     "output_type": "display_data"
    }
   ],
   "source": [
    "fig, axes = plt.subplots(nrows=int(len(full_test_df.columns)/3), ncols=3, figsize=(18, 12))\n",
    "\n",
    "for idx, colname in  enumerate(full_test_df.columns): \n",
    "    ax = axes[int(idx/3)][idx%3]\n",
    "    uniq = np.unique(full_train_df[colname])\n",
    "    val_max = np.max(full_train_df[colname].values)\n",
    "    ax.hist(full_train_df[colname], bins = (15 if len(uniq) > 15 else len(uniq)))\n",
    "    ax.set_label(colname)\n",
    "    ax.legend([colname])\n",
    "    \n",
    "plt.show()"
   ]
  },
  {
   "cell_type": "code",
   "execution_count": 112,
   "metadata": {},
   "outputs": [
    {
     "data": {
      "image/png": "[encoded data removed]",
      "text/plain": [
       "<matplotlib.figure.Figure at 0x13062bf60>"
      ]
     },
     "metadata": {},
     "output_type": "display_data"
    }
   ],
   "source": [
    "fig, axes = plt.subplots(nrows=int(len(full_test_df.columns)/3), ncols=3, figsize=(18, 12))\n",
    "\n",
    "for idx, colname in  enumerate(full_test_df.columns): \n",
    "    ax = axes[int(idx/3)][idx%3]\n",
    "    uniq = np.unique(full_train_df[colname])\n",
    "    val_max = np.max(full_train_df[colname].values)\n",
    "    ax.hist(full_train_df[colname], bins = (15 if len(uniq) > 15 else len(uniq)))\n",
    "    ax.set_label(colname)\n",
    "    ax.legend([colname])\n",
    "    \n",
    "plt.show()"
   ]
  },
  {
   "cell_type": "markdown",
   "metadata": {},
   "source": [
    "#### Features and target box plots"
   ]
  },
  {
   "cell_type": "code",
   "execution_count": 143,
   "metadata": {},
   "outputs": [
    {
     "data": {
      "image/png": "[encoded data removed]",
      "text/plain": [
       "<matplotlib.figure.Figure at 0x134808668>"
      ]
     },
     "metadata": {},
     "output_type": "display_data"
    }
   ],
   "source": [
    "plt.close('all')\n",
    "col_amount = 2\n",
    "fig, axes = plt.subplots(nrows=int(len(full_test_df.columns)/col_amount) + 1, ncols=col_amount, figsize=(30, 20))\n",
    "for idx, colname in  enumerate(full_test_df.columns): \n",
    "    ax = axes[int(idx/col_amount)][idx%col_amount]\n",
    "    ax.set_title(colname, fontsize=50)\n",
    "    full_train_df[[colname, 'relevance']].boxplot(by=colname, ax = ax, fontsize = 24)\n",
    "plt.tight_layout()\n",
    "plt.show()"
   ]
  },
  {
   "cell_type": "markdown",
   "metadata": {},
   "source": [
    "# 3. Let's machine learning begin!\n",
    "first of all let's create training and test data sets"
   ]
  },
  {
   "cell_type": "markdown",
   "metadata": {},
   "source": [
    "Our result ~0.48 is better than RMSE of constant algorithm ~0.53."
   ]
  },
  {
   "cell_type": "code",
   "execution_count": 5,
   "metadata": {
    "collapsed": true
   },
   "outputs": [],
   "source": [
    "X_train = full_train_df.drop(['relevance'], axis=1)\n",
    "X_test = full_test_df\n",
    "y_train = full_train_df['relevance']"
   ]
  },
  {
   "cell_type": "markdown",
   "metadata": {},
   "source": [
    "We are going to test following regressors:\n",
    "1. RandomForestRegressor\n",
    "2. LinearRegression\n",
    "4. GradientBoostingRegressor \n",
    "5. BaggingRegressor\n",
    "6. XGBoost\n",
    "7. CatBoost\n",
    "8. Naive Baies\n",
    "8. PolynomialFeatures for all previous algorithms"
   ]
  },
  {
   "cell_type": "code",
   "execution_count": 101,
   "metadata": {
    "collapsed": true
   },
   "outputs": [],
   "source": [
    "from sklearn.metrics import mean_squared_error, make_scorer\n",
    "from sklearn.model_selection import GridSearchCV\n",
    "# suprress warnings\n",
    "import warnings\n",
    "warnings.filterwarnings('ignore')"
   ]
  },
  {
   "cell_type": "markdown",
   "metadata": {},
   "source": [
    "We are going to use StratifiedKFold as a cross-validator with 10 folds"
   ]
  },
  {
   "cell_type": "code",
   "execution_count": 7,
   "metadata": {
    "collapsed": true
   },
   "outputs": [],
   "source": [
    "from sklearn.model_selection import StratifiedKFold\n",
    "skf = StratifiedKFold(n_splits=10, shuffle=True, random_state=17)"
   ]
  },
  {
   "cell_type": "markdown",
   "metadata": {},
   "source": [
    "Kagge uses root MSE as scoring function. So let's implement this based on the standard MSE scoring function. "
   ]
  },
  {
   "cell_type": "code",
   "execution_count": 8,
   "metadata": {
    "collapsed": true
   },
   "outputs": [],
   "source": [
    "def fmean_squared_error(ground_truth, predictions):\n",
    "    fmean_squared_error_ = mean_squared_error(ground_truth, predictions)**0.5\n",
    "    return fmean_squared_error_\n",
    "\n",
    "RMSE  = make_scorer(fmean_squared_error, greater_is_better=False)"
   ]
  },
  {
   "cell_type": "markdown",
   "metadata": {},
   "source": [
    "## 3.0. Compare with constant algorithm\n",
    "Let's find out the RMSE of the constant algorithm. Let the constatnt be equal to the mean value of the y_train "
   ]
  },
  {
   "cell_type": "code",
   "execution_count": 147,
   "metadata": {},
   "outputs": [
    {
     "data": {
      "text/plain": [
       "0.53398034366913216"
      ]
     },
     "execution_count": 147,
     "metadata": {},
     "output_type": "execute_result"
    }
   ],
   "source": [
    "from sklearn.metrics import mean_squared_error\n",
    "mse = mean_squared_error([np.mean(y_train)]*len(y_train), y_train)\n",
    "mse**0.5"
   ]
  },
  {
   "cell_type": "markdown",
   "metadata": {},
   "source": [
    "## 3.1 RandomForestRegressor\n",
    "A random forest is a meta estimator that fits a number of classifying decision trees on various sub-samples of the dataset and use averaging to improve the predictive accuracy and control over-fitting."
   ]
  },
  {
   "cell_type": "code",
   "execution_count": 102,
   "metadata": {
    "collapsed": true
   },
   "outputs": [],
   "source": [
    "from sklearn.ensemble import RandomForestRegressor"
   ]
  },
  {
   "cell_type": "code",
   "execution_count": 12,
   "metadata": {
    "collapsed": true
   },
   "outputs": [],
   "source": [
    "rfr = RandomForestRegressor(n_estimators = 500, n_jobs = -1, random_state = 17, verbose = 1)"
   ]
  },
  {
   "cell_type": "code",
   "execution_count": null,
   "metadata": {
    "collapsed": true
   },
   "outputs": [],
   "source": [
    "%%time\n",
    "param_grid = {\n",
    "                'n_estimators': [500], #[100, 300, 500], \n",
    "                'max_depth': [20],#, 50, 100],\n",
    "                'max_features': ['sqrt']#['auto', 'sqrt', 'log2'],\n",
    "             }\n",
    "model_rfr = GridSearchCV(estimator = rfr, param_grid = param_grid, n_jobs = -1, cv = skf, scoring=RMSE)\n",
    "model_rfr.fit(X_train, y_train)"
   ]
  },
  {
   "cell_type": "code",
   "execution_count": 43,
   "metadata": {},
   "outputs": [
    {
     "name": "stdout",
     "output_type": "stream",
     "text": [
      "-0.485378348723\n",
      "{'max_depth': 20, 'max_features': 'sqrt', 'n_estimators': 500}\n"
     ]
    }
   ],
   "source": [
    "print (model_rfr.best_score_)\n",
    "print (model_rfr.best_params_)\n",
    "# Kaggle result - 0.49509"
   ]
  },
  {
   "cell_type": "markdown",
   "metadata": {},
   "source": [
    "## 3.2 LinearRegression\n",
    "Ordinary least squares Linear Regression"
   ]
  },
  {
   "cell_type": "code",
   "execution_count": 13,
   "metadata": {
    "collapsed": true
   },
   "outputs": [],
   "source": [
    "from sklearn.linear_model import LinearRegression"
   ]
  },
  {
   "cell_type": "code",
   "execution_count": 14,
   "metadata": {},
   "outputs": [
    {
     "name": "stdout",
     "output_type": "stream",
     "text": [
      "CPU times: user 427 ms, sys: 114 ms, total: 541 ms\n",
      "Wall time: 1.59 s\n"
     ]
    }
   ],
   "source": [
    "%%time\n",
    "lr = LinearRegression(n_jobs = -1)\n",
    "param_grid = {}\n",
    "model_lr = GridSearchCV(estimator = lr, param_grid = param_grid, n_jobs = -1, cv = skf, scoring=RMSE)\n",
    "model_lr.fit(X_train, y_train)"
   ]
  },
  {
   "cell_type": "code",
   "execution_count": 15,
   "metadata": {},
   "outputs": [
    {
     "name": "stdout",
     "output_type": "stream",
     "text": [
      "-0.489821667644\n",
      "{}\n"
     ]
    }
   ],
   "source": [
    "print (model_lr.best_score_)\n",
    "print (model_lr.best_params_)\n",
    "# Kaggle result - "
   ]
  },
  {
   "cell_type": "markdown",
   "metadata": {},
   "source": [
    "## 3.4 GradientBoostingRegressor\n",
    "Gradient Boosting for regression. It produces a prediction model in the form of an ensemble of weak prediction models, typically decision trees. "
   ]
  },
  {
   "cell_type": "code",
   "execution_count": 25,
   "metadata": {
    "collapsed": true
   },
   "outputs": [],
   "source": [
    "from sklearn.ensemble import GradientBoostingRegressor"
   ]
  },
  {
   "cell_type": "code",
   "execution_count": 270,
   "metadata": {
    "collapsed": true
   },
   "outputs": [],
   "source": [
    "gbr = GradientBoostingRegressor()"
   ]
  },
  {
   "cell_type": "code",
   "execution_count": 286,
   "metadata": {},
   "outputs": [
    {
     "name": "stdout",
     "output_type": "stream",
     "text": [
      "CPU times: user 20.1 s, sys: 648 ms, total: 20.7 s\n",
      "Wall time: 2min 35s\n"
     ]
    }
   ],
   "source": [
    "%%time\n",
    "param_grid = {\n",
    "                'loss' : ['ls'],\n",
    "                'n_estimators' : [100], \n",
    "                'max_depth' : [7],\n",
    "                'max_features' : ['auto'] \n",
    "             }\n",
    "model_gbr = GridSearchCV(estimator = gbr, param_grid = param_grid, n_jobs = -1, cv = skf, scoring=RMSE)\n",
    "model_gbr.fit(X_train, y_train)"
   ]
  },
  {
   "cell_type": "code",
   "execution_count": 287,
   "metadata": {},
   "outputs": [
    {
     "name": "stdout",
     "output_type": "stream",
     "text": [
      "-0.476753417604\n",
      "{'loss': 'ls', 'max_depth': 7, 'max_features': 'auto', 'n_estimators': 100}\n"
     ]
    }
   ],
   "source": [
    "print (model_gbr.best_score_)\n",
    "print (model_gbr.best_params_)\n",
    "# Kaggle result - 0.48064\n",
    "\n",
    "\n",
    "#-0.477212232462\n",
    "#{'loss': 'ls', 'n_estimators': 100}\n",
    "\n",
    "#-0.476795818082\n",
    "#{'learning_rate': 0.1, 'loss': 'ls', 'max_depth': 7, 'max_features': 'auto', 'n_estimators': 100}\n",
    "\n",
    "#-0.477708306352\n",
    "#{'loss': 'ls', 'max_depth': 7, 'max_features': 'auto', 'n_estimators': 200}"
   ]
  },
  {
   "cell_type": "markdown",
   "metadata": {},
   "source": [
    "## 3.5 BaggingRegressor based on  RandomForestRegressor\n",
    "A Bagging regressor is an ensemble meta-estimator that fits base regressors each on random subsets of the original dataset and then aggregate their individual predictions (either by voting or by averaging) to form a final prediction."
   ]
  },
  {
   "cell_type": "code",
   "execution_count": 52,
   "metadata": {
    "collapsed": true
   },
   "outputs": [],
   "source": [
    "from sklearn.ensemble import BaggingRegressor"
   ]
  },
  {
   "cell_type": "code",
   "execution_count": 53,
   "metadata": {
    "collapsed": true
   },
   "outputs": [],
   "source": [
    "rf = RandomForestRegressor(max_depth = 20, max_features =  'sqrt', n_estimators = 500)\n",
    "clf = BaggingRegressor(rf, n_estimators=10, max_samples=0.1, random_state=25)\n"
   ]
  },
  {
   "cell_type": "code",
   "execution_count": 144,
   "metadata": {},
   "outputs": [
    {
     "name": "stdout",
     "output_type": "stream",
     "text": [
      "CPU times: user 1min, sys: 3.17 s, total: 1min 3s\n",
      "Wall time: 31min 44s\n"
     ]
    }
   ],
   "source": [
    "%%time\n",
    "param_grid = {'bootstrap': [True, False], 'bootstrap_features': [True, False]}\n",
    "model_bagging = GridSearchCV(estimator = clf, param_grid = param_grid, n_jobs = -1, cv = skf, scoring=RMSE)\n",
    "model_bagging.fit(X_train, y_train)"
   ]
  },
  {
   "cell_type": "code",
   "execution_count": 145,
   "metadata": {},
   "outputs": [
    {
     "name": "stdout",
     "output_type": "stream",
     "text": [
      "-0.47819817516\n",
      "{'bootstrap': True, 'bootstrap_features': False}\n"
     ]
    }
   ],
   "source": [
    "print (model_bagging.best_score_)\n",
    "print (model_bagging.best_params_)\n",
    "# Training -0.478894206917 Kaggle result - 0.48470"
   ]
  },
  {
   "cell_type": "markdown",
   "metadata": {},
   "source": [
    "## 3.6 Naive Bayes"
   ]
  },
  {
   "cell_type": "code",
   "execution_count": 23,
   "metadata": {
    "collapsed": true
   },
   "outputs": [],
   "source": [
    "from sklearn.linear_model import BayesianRidge"
   ]
  },
  {
   "cell_type": "code",
   "execution_count": 158,
   "metadata": {},
   "outputs": [
    {
     "data": {
      "text/plain": [
       "GridSearchCV(cv=StratifiedKFold(n_splits=10, random_state=17, shuffle=True),\n",
       "       error_score='raise',\n",
       "       estimator=BayesianRidge(alpha_1=1e-06, alpha_2=1e-06, compute_score=False, copy_X=True,\n",
       "       fit_intercept=True, lambda_1=1e-06, lambda_2=1e-06, n_iter=300,\n",
       "       normalize=False, tol=0.001, verbose=False),\n",
       "       fit_params={}, iid=True, n_jobs=-1, param_grid={},\n",
       "       pre_dispatch='2*n_jobs', refit=True, return_train_score=True,\n",
       "       scoring=make_scorer(fmean_squared_error, greater_is_better=False),\n",
       "       verbose=0)"
      ]
     },
     "execution_count": 158,
     "metadata": {},
     "output_type": "execute_result"
    }
   ],
   "source": [
    "gnb = BayesianRidge()\n",
    "param_grid = {}\n",
    "model_nb = GridSearchCV(estimator = gnb, param_grid = param_grid, n_jobs = -1, cv = skf, scoring=RMSE)\n",
    "model_nb.fit(X_train, y_train)"
   ]
  },
  {
   "cell_type": "code",
   "execution_count": 159,
   "metadata": {},
   "outputs": [
    {
     "name": "stdout",
     "output_type": "stream",
     "text": [
      "-0.489821605943\n",
      "{}\n"
     ]
    }
   ],
   "source": [
    "print (model_nb.best_score_)\n",
    "print (model_nb.best_params_)"
   ]
  },
  {
   "cell_type": "markdown",
   "metadata": {},
   "source": [
    "## 3.7 XGBoost"
   ]
  },
  {
   "cell_type": "code",
   "execution_count": 70,
   "metadata": {
    "collapsed": true
   },
   "outputs": [],
   "source": [
    "from xgboost import XGBRegressor"
   ]
  },
  {
   "cell_type": "code",
   "execution_count": 71,
   "metadata": {},
   "outputs": [
    {
     "name": "stdout",
     "output_type": "stream",
     "text": [
      "CPU times: user 7.67 s, sys: 558 ms, total: 8.23 s\n",
      "Wall time: 3min 51s\n"
     ]
    }
   ],
   "source": [
    "%%time\n",
    "xgb = XGBRegressor()\n",
    "param_grid = {'max_depth':[5, 6], \n",
    "              'n_estimators': [130, 150, 170], \n",
    "              'learning_rate' : [0.1]}\n",
    "model_xgb = GridSearchCV(estimator = xgb, param_grid = param_grid, n_jobs = -1, cv = skf, scoring=RMSE)\n",
    "model_xgb.fit(X_train, y_train)"
   ]
  },
  {
   "cell_type": "code",
   "execution_count": 72,
   "metadata": {},
   "outputs": [
    {
     "name": "stdout",
     "output_type": "stream",
     "text": [
      "-0.475695628143\n",
      "{'learning_rate': 0.1, 'max_depth': 5, 'n_estimators': 150}\n"
     ]
    }
   ],
   "source": [
    "print (model_xgb.best_score_)\n",
    "print (model_xgb.best_params_)"
   ]
  },
  {
   "cell_type": "markdown",
   "metadata": {},
   "source": [
    "## 3.8 CatBoost"
   ]
  },
  {
   "cell_type": "code",
   "execution_count": 233,
   "metadata": {
    "collapsed": true
   },
   "outputs": [],
   "source": [
    "from catboost import CatBoostRegressor"
   ]
  },
  {
   "cell_type": "code",
   "execution_count": 232,
   "metadata": {
    "collapsed": true
   },
   "outputs": [],
   "source": [
    "from sortedcontainers import SortedList\n",
    "import copy\n",
    "import collections\n",
    "import numpy as np\n",
    "from itertools import product,chain\n",
    "import pandas\n",
    "from sklearn.model_selection import KFold\n",
    "import catboost as cb\n",
    "\n",
    "class paramsearch:\n",
    "    def __init__(self,pdict):    \n",
    "        self.pdict = {}\n",
    "        for a,b in pdict.items():\n",
    "            if isinstance(b, collections.Sequence) and not isinstance(b, str): self.pdict[a] = b\n",
    "            else: self.pdict[a] = [b]\n",
    "        self.results = SortedList()       \n",
    "                    \n",
    "    def grid_search(self,keys=None):\n",
    "        if keys==None: keylist = self.pdict.keys()\n",
    "        else: keylist = keys\n",
    " \n",
    "        listoflists = [] # this will be list of lists of key,value pairs\n",
    "        for key in keylist: listoflists.append([(key,i) for i in self.pdict[key]])\n",
    "        for p in product(*listoflists):\n",
    "            if len(self.results)>0: template = self.results[-1][1]\n",
    "            else: template = {a:b[0] for a,b in self.pdict.items()}\n",
    "            if self.equaldict(dict(p),template): continue\n",
    "            yield self.overwritedict(dict(p),template)\n",
    "                              \n",
    "    def equaldict(self,a,b):\n",
    "        for key in a.keys(): \n",
    "            if a[key] != b[key]: return False\n",
    "        return True            \n",
    "                              \n",
    "    def overwritedict(self,new,old):\n",
    "        old = copy.deepcopy(old)\n",
    "        for key in new.keys(): old[key] = new[key]\n",
    "        return old            \n",
    "\n",
    "    def register_result(self,result,params):\n",
    "        self.results.add((result+np.random.randn()*1e-10,params))    \n",
    "        \n",
    "    def bestscore(self):\n",
    "        return self.results[0][0]\n",
    "        \n",
    "    def bestparam(self):\n",
    "        return self.results[0][1]"
   ]
  },
  {
   "cell_type": "code",
   "execution_count": 245,
   "metadata": {
    "collapsed": true
   },
   "outputs": [],
   "source": [
    "from sklearn.metrics import mean_squared_error\n",
    "def crossvaltest(params,train_set,train_label,cat_dims,n_splits=3):\n",
    "    kf = KFold(n_splits=n_splits,shuffle=True) \n",
    "    res = []\n",
    "    for train_index, test_index in kf.split(train_set):\n",
    "        train = train_set.iloc[train_index,:]\n",
    "        test = train_set.iloc[test_index,:]\n",
    "\n",
    "        labels = train_label.ix[train_index]\n",
    "        test_labels = train_label.ix[test_index]\n",
    "\n",
    "        clf = CatBoostRegressor(**params)\n",
    "        clf.fit(train, np.ravel(labels), cat_features=cat_dims)\n",
    "        \n",
    "        res.append(math.sqrt(mean_squared_error(clf.predict(test), np.ravel(test_labels))))\n",
    "    return np.mean(res)"
   ]
  },
  {
   "cell_type": "code",
   "execution_count": 267,
   "metadata": {
    "collapsed": true
   },
   "outputs": [],
   "source": [
    "def catboost_param_tune(params,train_set,train_label,cat_dims=None,n_splits=3):\n",
    "    ps = paramsearch(params)\n",
    "    # search 'border_count', 'l2_leaf_reg' etc. individually \n",
    "    #   but 'iterations','learning_rate' together\n",
    "    for prms in chain(ps.grid_search(['border_count']),\n",
    "                      ps.grid_search(['ctr_border_count']),\n",
    "                      ps.grid_search(['l2_leaf_reg']), \n",
    "                      ps.grid_search(['iterations','learning_rate']),\n",
    "                      ps.grid_search(['feature_border_type']),\n",
    "                      ps.grid_search(['depth'])):\n",
    "        res = crossvaltest(prms,train_set,train_label,cat_dims,n_splits)\n",
    "        ps.register_result(res,prms)\n",
    "    return ps.bestparam()"
   ]
  },
  {
   "cell_type": "code",
   "execution_count": 253,
   "metadata": {
    "collapsed": true
   },
   "outputs": [],
   "source": [
    "params = {'depth':[3,1,2,6,4],\n",
    "          'iterations':[1000, 2000, 3000],\n",
    "          'learning_rate':[0.25, 0.22,0.27], \n",
    "          'l2_leaf_reg':[100, 150, 200, 250],\n",
    "          'border_count':[None, 25, 50,75, 100, 150],\n",
    "          'ctr_border_count':[None, 50,5,10,20,100,200],\n",
    "          'feature_border_type': ['Median', 'Uniform', 'UniformAndQuantiles', 'MaxSumLog', 'MinEntropy', 'GreedyLogSum'],\n",
    "          'thread_count':4}"
   ]
  },
  {
   "cell_type": "code",
   "execution_count": null,
   "metadata": {
    "collapsed": true
   },
   "outputs": [],
   "source": [
    "%%time\n",
    "bestparams = catboost_param_tune(params,X_train,y_train)"
   ]
  },
  {
   "cell_type": "code",
   "execution_count": 255,
   "metadata": {},
   "outputs": [
    {
     "data": {
      "text/plain": [
       "{'border_count': 100,\n",
       " 'ctr_border_count': None,\n",
       " 'depth': 3,\n",
       " 'feature_border_type': 'Median',\n",
       " 'iterations': 1000,\n",
       " 'l2_leaf_reg': 100,\n",
       " 'learning_rate': 0.25,\n",
       " 'thread_count': 4}"
      ]
     },
     "execution_count": 255,
     "metadata": {},
     "output_type": "execute_result"
    }
   ],
   "source": [
    "bestparams"
   ]
  },
  {
   "cell_type": "code",
   "execution_count": 256,
   "metadata": {},
   "outputs": [
    {
     "name": "stdout",
     "output_type": "stream",
     "text": [
      "CPU times: user 54.2 s, sys: 7.14 s, total: 1min 1s\n",
      "Wall time: 22.6 s\n"
     ]
    }
   ],
   "source": [
    "%%time\n",
    "# train classifier with tuned parameters    \n",
    "model_catboost = cb.CatBoostRegressor(**bestparams)\n",
    "model_catboost.fit(X_train, np.ravel(y_train))"
   ]
  },
  {
   "cell_type": "code",
   "execution_count": 258,
   "metadata": {},
   "outputs": [
    {
     "data": {
      "text/plain": [
       "0.47287644275271395"
      ]
     },
     "execution_count": 258,
     "metadata": {},
     "output_type": "execute_result"
    }
   ],
   "source": [
    "math.sqrt(model_catboost.score(X_train, np.ravel(y_train)))"
   ]
  },
  {
   "cell_type": "markdown",
   "metadata": {},
   "source": [
    "## 3.9 Polynomial Features with other regressors\n",
    "Generate a new feature matrix consisting of all polynomial combinations of the features with degree less than or equal to the specified degree."
   ]
  },
  {
   "cell_type": "markdown",
   "metadata": {},
   "source": [
    "### 3.9.1 LinearRegression"
   ]
  },
  {
   "cell_type": "code",
   "execution_count": 26,
   "metadata": {
    "collapsed": true
   },
   "outputs": [],
   "source": [
    "from sklearn.preprocessing import PolynomialFeatures\n",
    "from sklearn.pipeline import Pipeline"
   ]
  },
  {
   "cell_type": "code",
   "execution_count": 17,
   "metadata": {},
   "outputs": [
    {
     "name": "stdout",
     "output_type": "stream",
     "text": [
      "CPU times: user 3.09 s, sys: 497 ms, total: 3.59 s\n",
      "Wall time: 1min 54s\n"
     ]
    }
   ],
   "source": [
    "%%time\n",
    "poly_pipe = Pipeline([('poly', PolynomialFeatures(degree=3)),\n",
    "                   ('linear', LinearRegression())])\n",
    "lr = LinearRegression(n_jobs = -1)\n",
    "param_grid = {'poly__degree': [2, 3, 4]}\n",
    "model_lr_poly = GridSearchCV(estimator = poly_pipe, param_grid = param_grid, n_jobs = -1, cv = skf, scoring=RMSE)\n",
    "model_lr_poly.fit(X_train, y_train)"
   ]
  },
  {
   "cell_type": "code",
   "execution_count": 18,
   "metadata": {},
   "outputs": [
    {
     "name": "stdout",
     "output_type": "stream",
     "text": [
      "-0.481970840645\n",
      "{'poly__degree': 3}\n"
     ]
    }
   ],
   "source": [
    "print (model_lr_poly.best_score_)\n",
    "print (model_lr_poly.best_params_)\n",
    "# Kaggle result - 0.49175"
   ]
  },
  {
   "cell_type": "markdown",
   "metadata": {},
   "source": [
    "### 3.9.2 BaggingRegressor"
   ]
  },
  {
   "cell_type": "code",
   "execution_count": 149,
   "metadata": {},
   "outputs": [
    {
     "name": "stdout",
     "output_type": "stream",
     "text": [
      "CPU times: user 1min 52s, sys: 5.27 s, total: 1min 57s\n",
      "Wall time: 1h 27min 34s\n"
     ]
    }
   ],
   "source": [
    "%%time\n",
    "rf = RandomForestRegressor(max_depth = 20, max_features =  'sqrt', n_estimators = 500)\n",
    "clf = BaggingRegressor(rf, n_estimators=10, max_samples=0.1, random_state=25)\n",
    "\n",
    "\n",
    "poly_pipe = Pipeline([('poly', PolynomialFeatures(degree=3)),\n",
    "                   ('bagging', clf)])\n",
    "param_grid = {'poly__degree': [2, 3, 4]}\n",
    "model_bagging_poly = GridSearchCV(estimator = poly_pipe, param_grid = param_grid, n_jobs = -1, cv = skf, scoring=RMSE)\n",
    "model_bagging_poly.fit(X_train, y_train)"
   ]
  },
  {
   "cell_type": "code",
   "execution_count": 162,
   "metadata": {},
   "outputs": [
    {
     "name": "stdout",
     "output_type": "stream",
     "text": [
      "-0.478269059855\n",
      "{'poly__degree': 2}\n"
     ]
    }
   ],
   "source": [
    "print (model_bagging_poly.best_score_)\n",
    "print (model_bagging_poly.best_params_)\n",
    "# 0.48370"
   ]
  },
  {
   "cell_type": "markdown",
   "metadata": {},
   "source": [
    "### 3.9.3 GradientBoostingRegressor"
   ]
  },
  {
   "cell_type": "code",
   "execution_count": 46,
   "metadata": {},
   "outputs": [
    {
     "name": "stdout",
     "output_type": "stream",
     "text": [
      "CPU times: user 2min 24s, sys: 2.98 s, total: 2min 27s\n",
      "Wall time: 1h 24min 35s\n"
     ]
    }
   ],
   "source": [
    "%%time\n",
    "gbr = GradientBoostingRegressor(learning_rate = 0.1, loss = 'ls', n_estimators = 100)\n",
    "\n",
    "poly_pipe = Pipeline([('poly', PolynomialFeatures(degree=3)),\n",
    "                   ('bagging', gbr)])\n",
    "param_grid = {'poly__degree': [2, 3, 4]}\n",
    "model_gbr_poly = GridSearchCV(estimator = poly_pipe, param_grid = param_grid, n_jobs = -1, cv = skf, scoring=RMSE)\n",
    "model_gbr_poly.fit(X_train, y_train)"
   ]
  },
  {
   "cell_type": "code",
   "execution_count": 163,
   "metadata": {},
   "outputs": [
    {
     "name": "stdout",
     "output_type": "stream",
     "text": [
      "-0.477001813071\n",
      "{'poly__degree': 3}\n"
     ]
    }
   ],
   "source": [
    "print (model_gbr_poly.best_score_)\n",
    "print (model_gbr_poly.best_params_)\n",
    "# 0.48087"
   ]
  },
  {
   "cell_type": "markdown",
   "metadata": {},
   "source": [
    "### 3.9.4 XGBoost"
   ]
  },
  {
   "cell_type": "code",
   "execution_count": 48,
   "metadata": {},
   "outputs": [
    {
     "name": "stdout",
     "output_type": "stream",
     "text": [
      "CPU times: user 50.9 s, sys: 954 ms, total: 51.9 s\n",
      "Wall time: 21min 14s\n"
     ]
    }
   ],
   "source": [
    "%%time\n",
    "xgb = XGBRegressor()\n",
    "param_grid = {'max_depth':[3, 5], \n",
    "              'n_estimators': [50, 100, 200], \n",
    "              'learning_rate' : [0.01, 0.1]}\n",
    "poly_pipe = Pipeline([('poly', PolynomialFeatures(degree=3)),\n",
    "                   ('bagging', xgb)])\n",
    "param_grid = {'poly__degree': [2, 3, 4]}\n",
    "model_xgb_poly = GridSearchCV(estimator = poly_pipe, param_grid = param_grid, n_jobs = -1, cv = skf, scoring=RMSE)\n",
    "model_xgb_poly.fit(X_train, y_train)"
   ]
  },
  {
   "cell_type": "code",
   "execution_count": 49,
   "metadata": {},
   "outputs": [
    {
     "name": "stdout",
     "output_type": "stream",
     "text": [
      "-0.476999956289\n",
      "{'poly__degree': 3}\n"
     ]
    }
   ],
   "source": [
    "print (model_xgb_poly.best_score_)\n",
    "print (model_xgb_poly.best_params_)\n",
    "# Kaggle 0.48044"
   ]
  },
  {
   "cell_type": "markdown",
   "metadata": {},
   "source": [
    "### 3.9.5 Bayes"
   ]
  },
  {
   "cell_type": "code",
   "execution_count": 50,
   "metadata": {},
   "outputs": [
    {
     "data": {
      "text/plain": [
       "GridSearchCV(cv=StratifiedKFold(n_splits=10, random_state=17, shuffle=True),\n",
       "       error_score='raise',\n",
       "       estimator=Pipeline(steps=[('poly', PolynomialFeatures(degree=3, include_bias=True, interaction_only=False)), ('bagging', BayesianRidge(alpha_1=1e-06, alpha_2=1e-06, compute_score=False, copy_X=True,\n",
       "       fit_intercept=True, lambda_1=1e-06, lambda_2=1e-06, n_iter=300,\n",
       "       normalize=False, tol=0.001, verbose=False))]),\n",
       "       fit_params={}, iid=True, n_jobs=-1,\n",
       "       param_grid={'poly__degree': [2, 3, 4]}, pre_dispatch='2*n_jobs',\n",
       "       refit=True, return_train_score=True,\n",
       "       scoring=make_scorer(fmean_squared_error, greater_is_better=False),\n",
       "       verbose=0)"
      ]
     },
     "execution_count": 50,
     "metadata": {},
     "output_type": "execute_result"
    }
   ],
   "source": [
    "nb = BayesianRidge()\n",
    "poly_pipe = Pipeline([('poly', PolynomialFeatures(degree=3)),\n",
    "                   ('bagging', nb)])\n",
    "param_grid = {'poly__degree': [2, 3, 4]}\n",
    "model_nb_poly = GridSearchCV(estimator = poly_pipe, param_grid = param_grid, n_jobs = -1, cv = skf, scoring=RMSE)\n",
    "model_nb_poly.fit(X_train, y_train)"
   ]
  },
  {
   "cell_type": "code",
   "execution_count": 51,
   "metadata": {},
   "outputs": [
    {
     "name": "stdout",
     "output_type": "stream",
     "text": [
      "-0.482520070387\n",
      "{'poly__degree': 3}\n"
     ]
    }
   ],
   "source": [
    "print (model_nb_poly.best_score_)\n",
    "print (model_nb_poly.best_params_)\n",
    "# 0.49145"
   ]
  },
  {
   "cell_type": "markdown",
   "metadata": {},
   "source": [
    "# 4. Prepare modes predictions to submit"
   ]
  },
  {
   "cell_type": "code",
   "execution_count": 57,
   "metadata": {
    "collapsed": true
   },
   "outputs": [],
   "source": [
    "def remove_outliers(x):\n",
    "    if x < 1: return 1\n",
    "    elif x > 3: return 3\n",
    "    else: return x"
   ]
  },
  {
   "cell_type": "markdown",
   "metadata": {},
   "source": [
    "Let's submit all received predictions to the kaggle."
   ]
  },
  {
   "cell_type": "code",
   "execution_count": 58,
   "metadata": {
    "collapsed": true
   },
   "outputs": [],
   "source": [
    "original_test_df = pd.read_csv(os.path.join(PATH_TO_DATA,'spell_test.csv'), encoding = 'ISO-8859-1')\n",
    "ids = original_test_df['id']"
   ]
  },
  {
   "cell_type": "code",
   "execution_count": 59,
   "metadata": {
    "collapsed": true
   },
   "outputs": [],
   "source": [
    "def write_predictions(prediction, file_suffix):\n",
    "    pd.DataFrame({\"id\": ids, \"relevance\": prediction}).to_csv('submission_%s.csv'%file_suffix,index=False)\n",
    "\n",
    "def write_submission(estimator, file_suffix):\n",
    "    prediction = np.array([*map(remove_outliers, estimator.predict(X_test))])\n",
    "    write_predictions(prediction, file_suffix)\n"
   ]
  },
  {
   "cell_type": "code",
   "execution_count": null,
   "metadata": {
    "collapsed": true
   },
   "outputs": [],
   "source": [
    "write_submission(model_rfr.best_estimator_, 'forest')"
   ]
  },
  {
   "cell_type": "code",
   "execution_count": 31,
   "metadata": {
    "collapsed": true
   },
   "outputs": [],
   "source": [
    "write_submission(model_lr.best_estimator_, 'linear_regression')"
   ]
  },
  {
   "cell_type": "code",
   "execution_count": 288,
   "metadata": {
    "collapsed": true
   },
   "outputs": [],
   "source": [
    "write_submission(model_gbr.best_estimator_, 'linear_gradient_boost')"
   ]
  },
  {
   "cell_type": "code",
   "execution_count": 161,
   "metadata": {
    "collapsed": true
   },
   "outputs": [],
   "source": [
    "write_submission(model_bagging.best_estimator_, 'forest_bagging')"
   ]
  },
  {
   "cell_type": "code",
   "execution_count": 160,
   "metadata": {
    "collapsed": true
   },
   "outputs": [],
   "source": [
    "write_submission(model_nb.best_estimator_, 'naive_baies')"
   ]
  },
  {
   "cell_type": "code",
   "execution_count": 152,
   "metadata": {
    "collapsed": true
   },
   "outputs": [],
   "source": [
    "write_submission(model_xgb.best_estimator_, 'xgboost')"
   ]
  },
  {
   "cell_type": "code",
   "execution_count": 276,
   "metadata": {
    "collapsed": true
   },
   "outputs": [],
   "source": [
    "write_submission(model_catboost, 'catboost')"
   ]
  },
  {
   "cell_type": "code",
   "execution_count": 154,
   "metadata": {
    "collapsed": true
   },
   "outputs": [],
   "source": [
    "write_submission(model_lr_poly.best_estimator_, 'linear_regression_poly')"
   ]
  },
  {
   "cell_type": "code",
   "execution_count": 155,
   "metadata": {
    "collapsed": true
   },
   "outputs": [],
   "source": [
    "write_submission(model_bagging_poly.best_estimator_, 'bagging_poly')"
   ]
  },
  {
   "cell_type": "code",
   "execution_count": 156,
   "metadata": {
    "collapsed": true
   },
   "outputs": [],
   "source": [
    "write_submission(model_gbr_poly.best_estimator_, 'gradient_boosing_poly')"
   ]
  },
  {
   "cell_type": "code",
   "execution_count": 66,
   "metadata": {
    "collapsed": true
   },
   "outputs": [],
   "source": [
    "write_submission(model_xgb_poly.best_estimator_, 'xgb_poly')"
   ]
  },
  {
   "cell_type": "code",
   "execution_count": 275,
   "metadata": {
    "collapsed": true
   },
   "outputs": [],
   "source": [
    "write_submission(model_nb_poly.best_estimator_, 'naive_baies_poly')"
   ]
  },
  {
   "cell_type": "markdown",
   "metadata": {},
   "source": [
    "# Results"
   ]
  },
  {
   "cell_type": "markdown",
   "metadata": {},
   "source": [
    "## Regressors result comparisson"
   ]
  },
  {
   "cell_type": "markdown",
   "metadata": {},
   "source": [
    "\n",
    "|Regressor|Train|Kaggle\n",
    "|:----------------------|----------|----------|\n",
    "|CatBoostRegressor|0.47255|0.48021|\n",
    "|XGBRegressor|0.47570|0.48044|\n",
    "|GradientBoostingRegressor|0.47680|0.48064|\n",
    "|PolynomialFeatures on GradientBoostingRegressor|0.47700|0.48087|\n",
    "|PolynomialFeatures on XGBRegressor|0.47700|0.48091|\n",
    "|PolynomialFeatures on LinearRegression|0.48197|0.48297|\n",
    "|PolynomialFeatures on BaggingRegressor on RandomForestRegressor|0.47827|0.48370|\n",
    "|BaggingRegressor on RandomForestRegressor|0.47820|0.48470|\n",
    "|BayesianRidge|0.48982|0.49145|\n",
    "|LinearRegression|0.48982|0.49175|\n",
    "|PolynomialFeatures on BayesianRidge|0.48252|0.49309|\n",
    "|RandomForestRegressor|0.48538|0.49509|"
   ]
  },
  {
   "cell_type": "markdown",
   "metadata": {},
   "source": [
    "TOP5 are CatBoostRegressor, XGBoost, Gradient Boosting and their polinomial variant with degree 3."
   ]
  },
  {
   "cell_type": "markdown",
   "metadata": {},
   "source": [
    "## 5.1 Best Kaggle result"
   ]
  },
  {
   "cell_type": "code",
   "execution_count": 3,
   "metadata": {},
   "outputs": [
    {
     "data": {
      "image/png": "[encoded data removed]",
      "text/plain": [
       "<IPython.core.display.Image object>"
      ]
     },
     "execution_count": 3,
     "metadata": {},
     "output_type": "execute_result"
    }
   ],
   "source": [
    "from IPython.display import Image\n",
    "Image(filename='result.png')"
   ]
  },
  {
   "cell_type": "markdown",
   "metadata": {},
   "source": [
    "# 7. What was done?"
   ]
  },
  {
   "cell_type": "markdown",
   "metadata": {},
   "source": [
    "### Data prepartion:\n",
    "- text may contain misspellings\n",
    "- extract brand and material attributes that were mantioned as a very important\n",
    "- prepare text features\n",
    "    - remove stop words\n",
    "    - stem words in text\n",
    "- count amount of similar words in search_term and all other text columns\n",
    "\n",
    "### Machine learning:\n",
    "- figure out that we are going to solve regression task\n",
    "- list all available regression algorithms available in the sklearn lib (LinearRegressor, RandomForestRegressor and so on)\n",
    "- use GridSearchCV to find the best combination of parameters for each regressor to archive the best result\n",
    "- compare regressors result\n",
    "- submit best result to kaggle"
   ]
  },
  {
   "cell_type": "markdown",
   "metadata": {},
   "source": [
    "### Best model description\n",
    "Best model is based on __CatBoost__. Result on public leaderboard  is __0.48026__. More information about that regression algorithm may be found here https://tech.yandex.ru/catboost/"
   ]
  },
  {
   "cell_type": "markdown",
   "metadata": {},
   "source": [
    "### Ways to improve"
   ]
  },
  {
   "cell_type": "markdown",
   "metadata": {},
   "source": [
    "- Try to use Tf-Idf to vectorize text features\n",
    "- Replace similarity features with similarity/(length of text)\n",
    "- Try to use neutral networks\n",
    "- Try to add several additional features to the model"
   ]
  },
  {
   "cell_type": "code",
   "execution_count": null,
   "metadata": {
    "collapsed": true
   },
   "outputs": [],
   "source": []
  }
 ],
 "metadata": {
  "kernelspec": {
   "display_name": "Python 3",
   "language": "python",
   "name": "python3"
  },
  "language_info": {
   "codemirror_mode": {
    "name": "ipython",
    "version": 3
   },
   "file_extension": ".py",
   "mimetype": "text/x-python",
   "name": "python",
   "nbconvert_exporter": "python",
   "pygments_lexer": "ipython3",
   "version": "3.6.1"
  }
 },
 "nbformat": 4,
 "nbformat_minor": 2
}
